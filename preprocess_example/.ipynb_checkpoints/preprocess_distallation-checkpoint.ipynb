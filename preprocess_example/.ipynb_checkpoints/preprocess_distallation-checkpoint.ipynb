{
 "cells": [
  {
   "cell_type": "code",
   "execution_count": 1,
   "metadata": {},
   "outputs": [
    {
     "name": "stdout",
     "output_type": "stream",
     "text": [
      "Device mapping: no known devices.\n"
     ]
    }
   ],
   "source": [
    "import os\n",
    "os.environ['TFHUB_CACHE_DIR']='/workspace/sentence-embedding/use-model'\n",
    "import tensorflow as tf\n",
    "os.environ[\"CUDA_VISIBLE_DEVICES\"] = \"7\"\n",
    "os.environ['TF_FORCE_GPU_ALLOW_GROWTH'] = 'true'\n",
    "config = tf.compat.v1.ConfigProto(allow_soft_placement=True, log_device_placement=True)\n",
    "config.gpu_options.allow_growth = True\n",
    "tf.compat.v1.Session(config=config) \n",
    "from tqdm import tqdm\n",
    "import pandas as pd\n",
    "import numpy as np\n",
    "import tensorflow_hub as hub\n",
    "import tensorflow_text"
   ]
  },
  {
   "cell_type": "code",
   "execution_count": 2,
   "metadata": {},
   "outputs": [],
   "source": [
    "def paragraph_splited(doc,doc_id):\n",
    "    para_id = 0\n",
    "    splited = []\n",
    "    data_frame = []\n",
    "    for idx,d in enumerate(doc):\n",
    "        for d_p in d.split('\\n'):\n",
    "            if d_p != '':\n",
    "                data_frame.append([doc_id[idx],d_p])\n",
    "                splited.append(d_p)\n",
    "        para_id+=1\n",
    "    data_frame = pd.DataFrame(data_frame ,columns =['para_id', 'para'])\n",
    "    return splited,data_frame"
   ]
  },
  {
   "cell_type": "code",
   "execution_count": 31,
   "metadata": {
    "scrolled": true
   },
   "outputs": [],
   "source": [
    "mode = 'train'\n",
    "q_lan = ['ar','de','es','hi','vi','zh','ru','bn','fi','ja','ko','te','fr','th','el','ro','tr']\n",
    "\n",
    "corpus = 'MLQA'\n",
    "\n",
    "path = f'data_preprocess/{corpus}/{mode}/'\n",
    "top_start = 1  \n",
    "top_end = 3\n",
    "\n",
    "df_question = {}\n",
    "df_teacher = {}\n",
    "lan_now = []\n",
    "df_paragraph = {}\n",
    "df_doc = {}\n",
    "for lan in q_lan:\n",
    "    try:\n",
    "        question_temp = pd.read_csv(f'data_preprocess/{corpus}/{mode}/{corpus.lower()}_question_en-{lan}.csv')\n",
    "        question_temp_t = pd.read_csv(f'data_preprocess/{corpus}/{mode}/{corpus.lower()}_question_en-{lan}_en.csv')\n",
    "        doc_temp = pd.read_csv(f'data_preprocess/{corpus}/{mode}/{corpus.lower()}_doc_en-{lan}.csv')\n",
    "\n",
    "        df_question.update({\n",
    "            f'en-{lan}': question_temp\n",
    "        })\n",
    "        df_teacher.update({\n",
    "            f'en-{lan}': question_temp_t\n",
    "        })\n",
    "        df_doc.update({\n",
    "            f'en-{lan}': doc_temp\n",
    "        })\n",
    "        \n",
    "        \n",
    "        df_paragraph.update({\n",
    "            f'en-{lan}':pd.read_csv(f'data_preprocess/{corpus}/{mode}/{corpus.lower()}_para_en-{lan}.csv')\n",
    "        })\n",
    "        \n",
    "        lan_now.append(lan)\n",
    "    except:\n",
    "        pass\n",
    "    \n",
    "q_lan = lan_now\n"
   ]
  },
  {
   "cell_type": "markdown",
   "metadata": {},
   "source": [
    "# para-level"
   ]
  },
  {
   "cell_type": "code",
   "execution_count": 32,
   "metadata": {
    "scrolled": true
   },
   "outputs": [
    {
     "name": "stdout",
     "output_type": "stream",
     "text": [
      "Lan:1/6\n",
      "Lan:2/6\n",
      "Lan:3/6\n",
      "Lan:4/6\n",
      "Lan:5/6\n",
      "Lan:6/6\n"
     ]
    }
   ],
   "source": [
    "context_mode = 'para'\n",
    "for idx,lan in enumerate(q_lan[:]): #.drop_duplicates(subset=['question'])\n",
    "    print(f'Lan:{idx+1}/{len(q_lan)}')\n",
    "    df_merged = df_question[f'en-{lan}'].copy()\n",
    "    df_merged['question_y'] = df_teacher[f'en-{lan}']['question'].to_list()\n",
    "    df_merged = df_merged.drop_duplicates(subset=['question_y'])\n",
    "    df_merged = df_merged.drop_duplicates(subset=['question'])\n",
    "    df_merged = df_merged.rename(columns={'question': 'student','question_y': 'teacher'})\n",
    "    \n",
    "    df_merged = df_merged.merge(df_paragraph[f'en-{lan}'],left_on='paragraph_id',right_on='para_id')\n",
    "    df_merged = df_merged[['student','teacher','para']]\n",
    "    df_merged.columns = ['student','teacher','doc']\n",
    "    df_merged.dropna(inplace=True)\n",
    "    df_merged.drop_duplicates(inplace=True)\n",
    "    df_merged.to_csv(f'{path}distillation/distillation_para_en-{lan}.csv',index=False)\n"
   ]
  },
  {
   "cell_type": "markdown",
   "metadata": {},
   "source": [
    "# doc-level"
   ]
  },
  {
   "cell_type": "code",
   "execution_count": 16,
   "metadata": {
    "scrolled": true
   },
   "outputs": [
    {
     "name": "stdout",
     "output_type": "stream",
     "text": [
      "Lan:1/7\n",
      "Lan:2/7\n",
      "Lan:3/7\n",
      "Lan:4/7\n",
      "Lan:5/7\n",
      "Lan:6/7\n",
      "Lan:7/7\n"
     ]
    }
   ],
   "source": [
    "context_mode = 'para'\n",
    "for idx,lan in enumerate(q_lan[:]): #.drop_duplicates(subset=['question'])\n",
    "    print(f'Lan:{idx+1}/{len(q_lan)}')\n",
    "    df_merged = df_question[f'en-{lan}'].copy()\n",
    "    df_merged['question_y'] = df_teacher[f'en-{lan}']['question'].to_list()\n",
    "    df_merged = df_merged.drop_duplicates(subset=['question_y'])\n",
    "    df_merged = df_merged.drop_duplicates(subset=['question'])\n",
    "    df_merged = df_merged.rename(columns={'question': 'student','question_y': 'teacher'})\n",
    "    df_merged = df_merged.merge(df_doc,left_on='doc_id',right_on='doc_id')\n",
    "    df_merged = df_merged[['student','teacher','doc']]\n",
    "    df_merged.dropna(inplace=True)\n",
    "    df_merged.drop_duplicates(inplace=True)\n",
    "    df_merged.to_csv(f'{path}distillation/distillation_en-{lan}.csv',index=False)\n"
   ]
  },
  {
   "cell_type": "code",
   "execution_count": null,
   "metadata": {},
   "outputs": [],
   "source": []
  }
 ],
 "metadata": {
  "kernelspec": {
   "display_name": "Python 3",
   "language": "python",
   "name": "python3"
  },
  "language_info": {
   "codemirror_mode": {
    "name": "ipython",
    "version": 3
   },
   "file_extension": ".py",
   "mimetype": "text/x-python",
   "name": "python",
   "nbconvert_exporter": "python",
   "pygments_lexer": "ipython3",
   "version": "3.6.9"
  }
 },
 "nbformat": 4,
 "nbformat_minor": 2
}
