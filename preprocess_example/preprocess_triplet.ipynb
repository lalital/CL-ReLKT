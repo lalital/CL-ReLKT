{
 "cells": [
  {
   "cell_type": "code",
   "execution_count": 1,
   "metadata": {},
   "outputs": [],
   "source": [
    "import tqdm\n",
    "import pandas as pd\n",
    "import numpy as np\n",
    "import os"
   ]
  },
  {
   "cell_type": "code",
   "execution_count": 2,
   "metadata": {},
   "outputs": [],
   "source": [
    "def paragraph_splited(doc,doc_id):\n",
    "    para_id = 0\n",
    "    splited = []\n",
    "    data_frame = []\n",
    "    for idx,d in enumerate(doc):\n",
    "        for d_p in d.split('\\n'):\n",
    "            if d_p != '':\n",
    "                data_frame.append([doc_id[idx],d_p])\n",
    "                splited.append(d_p)\n",
    "        para_id+=1\n",
    "    data_frame = pd.DataFrame(data_frame ,columns =['para_id', 'para'])\n",
    "    return splited,data_frame"
   ]
  },
  {
   "cell_type": "markdown",
   "metadata": {},
   "source": [
    "# Cross-lingual"
   ]
  },
  {
   "cell_type": "code",
   "execution_count": 25,
   "metadata": {
    "scrolled": true
   },
   "outputs": [],
   "source": [
    "mode = 'train'\n",
    "q_lan = ['en','ar','de','es','hi','vi','zh','ru','bn','fi','ja','ko','te','fr','th','el','ro','tr','zh']\n",
    "# q_lan = ['ru']\n",
    "\n",
    "corpus = 'XORQA'\n",
    "\n",
    "path = f'data_preprocess/{corpus}/{mode}/'\n",
    "top_start = 1  \n",
    "top_end = 3\n",
    "\n",
    "df_question = {}\n",
    "df_paragraph = {}\n",
    "df_doc = {}\n",
    "df_doc_m = {}\n",
    "lan_now = []\n",
    "for lan in q_lan:\n",
    "    try:\n",
    "        question_temp = pd.read_csv(f'data_preprocess/{corpus}/{mode}/{corpus.lower()}_question_en-{lan}.csv')\n",
    "        doc_temp = pd.read_csv(f'data_preprocess/{corpus}/{mode}/{corpus.lower()}_doc_en-{lan}.csv')\n",
    "        question_temp = question_temp.dropna()\n",
    "\n",
    "        df_question.update({\n",
    "            f'en-{lan}': question_temp\n",
    "        })\n",
    "        df_doc_m.update({\n",
    "            f'en-{lan}': doc_temp\n",
    "        })\n",
    "        \n",
    "#         df_paragraph.update({\n",
    "#             f'en-{lan}':pd.read_csv(f'data_preprocess/{corpus}/{mode}/{corpus.lower()}_para_en-{lan}.csv')\n",
    "#         })\n",
    "        \n",
    "        lan_now.append(lan)\n",
    "    except:\n",
    "        pass\n",
    "    \n",
    "q_lan = lan_now\n"
   ]
  },
  {
   "cell_type": "code",
   "execution_count": 17,
   "metadata": {},
   "outputs": [
    {
     "name": "stdout",
     "output_type": "stream",
     "text": [
      "Lan:1/6\n"
     ]
    }
   ],
   "source": [
    "context_mode = 'para'\n",
    "for idx,lan in enumerate(q_lan[:1]):\n",
    "    print(f'Lan:{idx+1}/{len(q_lan)}')\n",
    "    question_id = df_question[f'en-{lan}']['doc_id'].to_list()\n",
    "    questions = df_question[f'en-{lan}']['question'].to_list()\n",
    "    \n",
    "    doc_context_id = df_doc_m[f'en-{lan}']['doc_id'].to_list()\n",
    "    doc_context_raw = df_doc_m[f'en-{lan}']['doc'].to_list()\n",
    "    \n",
    "    para_split,para_df = paragraph_splited(doc_context_raw,doc_context_id)\n",
    "    \n",
    "    df_merged = pd.merge(df_question[f'en-{lan}'],para_df,left_on='doc_id',right_on='para_id')\n",
    "    try:\n",
    "        df_merged = df_merged.drop(['paragraph_id','para_id'], axis=1)\n",
    "    except:\n",
    "        df_merged = df_merged.drop(['para_id'], axis=1)\n",
    "    df_merged.dropna(inplace=True)\n",
    "    df_merged.drop_duplicates(inplace=True)\n",
    "    df_merged.to_csv(f'{path}/triplet/triplet_en-{lan}_en_top0-0_{context_mode}.csv',index=False)"
   ]
  },
  {
   "cell_type": "code",
   "execution_count": 5,
   "metadata": {},
   "outputs": [
    {
     "name": "stdout",
     "output_type": "stream",
     "text": [
      "Lan:1/8\n",
      "Lan:2/8\n",
      "Lan:3/8\n",
      "Lan:4/8\n",
      "Lan:5/8\n",
      "Lan:6/8\n",
      "Lan:7/8\n",
      "Lan:8/8\n"
     ]
    }
   ],
   "source": [
    "context_mode = 'para_aligned'\n",
    "for idx,lan in enumerate(q_lan[:]):\n",
    "    print(f'Lan:{idx+1}/{len(q_lan)}')\n",
    "    df_merged = pd.merge(df_question[f'en-{lan}'],df_paragraph[f'en-{lan}'],left_on='paragraph_id',right_on='para_id')\n",
    "    df_merged = df_merged.drop(['paragraph_id','doc_id_y','para_id','title'], axis=1)\n",
    "    df_merged.columns = ['doc_id','question','para']\n",
    "    df_merged.to_csv(f'{path}/triplet/triplet_en-{lan}_en_top0-0_{context_mode}_mlqa.csv',index=False)\n",
    "    "
   ]
  },
  {
   "cell_type": "code",
   "execution_count": 26,
   "metadata": {
    "scrolled": true
   },
   "outputs": [
    {
     "name": "stdout",
     "output_type": "stream",
     "text": [
      "Lan:1/6\n",
      "Lan:2/6\n",
      "Lan:3/6\n",
      "Lan:4/6\n",
      "Lan:5/6\n",
      "Lan:6/6\n"
     ]
    }
   ],
   "source": [
    "context_mode = 'doc'\n",
    "for idx,lan in enumerate(q_lan[:]):\n",
    "    print(f'Lan:{idx+1}/{len(q_lan)}')\n",
    "    question_id = df_question[f'en-{lan}']['doc_id'].to_list()\n",
    "    questions = df_question[f'en-{lan}']['question'].to_list()\n",
    "\n",
    "    df_merged = pd.merge(df_question[f'en-{lan}'],df_doc_m[f'en-{lan}'],left_on='doc_id',right_on='doc_id')\n",
    "    try:\n",
    "        df_merged = df_merged.drop(['paragraph_id','title'], axis=1)\n",
    "    except:\n",
    "        df_merged = df_merged.drop(['title'], axis=1)\n",
    "    df_merged.columns = ['doc_id','question','para']  \n",
    "    df_merged.to_csv(f'{path}/triplet/triplet_en-{lan}_top0-0_{context_mode}.csv',index=False)"
   ]
  },
  {
   "cell_type": "code",
   "execution_count": null,
   "metadata": {},
   "outputs": [],
   "source": []
  }
 ],
 "metadata": {
  "kernelspec": {
   "display_name": "Python 3",
   "language": "python",
   "name": "python3"
  },
  "language_info": {
   "codemirror_mode": {
    "name": "ipython",
    "version": 3
   },
   "file_extension": ".py",
   "mimetype": "text/x-python",
   "name": "python",
   "nbconvert_exporter": "python",
   "pygments_lexer": "ipython3",
   "version": "3.6.9"
  }
 },
 "nbformat": 4,
 "nbformat_minor": 2
}
