{
 "cells": [
  {
   "cell_type": "markdown",
   "metadata": {},
   "source": [
    "# Process xquad dataset for Seq2Seq QA training"
   ]
  },
  {
   "cell_type": "code",
   "execution_count": 15,
   "metadata": {
    "execution": {
     "iopub.execute_input": "2022-07-09T08:43:06.440313Z",
     "iopub.status.busy": "2022-07-09T08:43:06.440060Z",
     "iopub.status.idle": "2022-07-09T08:43:06.443726Z",
     "shell.execute_reply": "2022-07-09T08:43:06.443086Z",
     "shell.execute_reply.started": "2022-07-09T08:43:06.440287Z"
    },
    "tags": []
   },
   "outputs": [],
   "source": [
    "import os, sys\n",
    "import json\n",
    "import glob\n",
    "from collections import defaultdict, Counter"
   ]
  },
  {
   "cell_type": "code",
   "execution_count": 27,
   "metadata": {
    "execution": {
     "iopub.execute_input": "2022-07-09T08:48:08.997653Z",
     "iopub.status.busy": "2022-07-09T08:48:08.997391Z",
     "iopub.status.idle": "2022-07-09T08:48:09.001045Z",
     "shell.execute_reply": "2022-07-09T08:48:09.000330Z",
     "shell.execute_reply.started": "2022-07-09T08:48:08.997625Z"
    },
    "tags": []
   },
   "outputs": [],
   "source": [
    "SQUAD_EN_DATA_DIR = '../../exploratory/online_prompt/data/xquad/en/'\n",
    "XQUAD_DATA_DIR = '../../exploratory/online_prompt/data/xquad/xx/'"
   ]
  },
  {
   "cell_type": "code",
   "execution_count": 25,
   "metadata": {
    "execution": {
     "iopub.execute_input": "2022-07-09T08:46:13.686374Z",
     "iopub.status.busy": "2022-07-09T08:46:13.686058Z",
     "iopub.status.idle": "2022-07-09T08:46:13.931360Z",
     "shell.execute_reply": "2022-07-09T08:46:13.930419Z",
     "shell.execute_reply.started": "2022-07-09T08:46:13.686348Z"
    },
    "tags": []
   },
   "outputs": [
    {
     "name": "stdout",
     "output_type": "stream",
     "text": [
      "train-v1.1.json\n",
      "xquad.ar.json xquad.en.json xquad.ro.json xquad.tr.json\n",
      "xquad.de.json xquad.es.json xquad.ru.json xquad.vi.json\n",
      "xquad.el.json xquad.hi.json xquad.th.json xquad.zh.json\n"
     ]
    }
   ],
   "source": [
    "\n",
    "!ls $SQUAD_EN_DATA_DIR\n",
    "!ls $XQUAD_DATA_DIR"
   ]
  },
  {
   "cell_type": "code",
   "execution_count": 65,
   "metadata": {
    "execution": {
     "iopub.execute_input": "2022-07-09T09:01:01.231713Z",
     "iopub.status.busy": "2022-07-09T09:01:01.231461Z",
     "iopub.status.idle": "2022-07-09T09:01:01.778986Z",
     "shell.execute_reply": "2022-07-09T09:01:01.778361Z",
     "shell.execute_reply.started": "2022-07-09T09:01:01.231688Z"
    },
    "tags": []
   },
   "outputs": [],
   "source": [
    "squad_en = { \n",
    "     'train': json.load(open(os.path.join(SQUAD_EN_DATA_DIR, 'train-v1.1.json')))['data'],\n",
    "     'validation': json.load(open(os.path.join(SQUAD_EN_DATA_DIR, 'dev-v1.1.json')))['data']\n",
    "}"
   ]
  },
  {
   "cell_type": "code",
   "execution_count": 66,
   "metadata": {
    "execution": {
     "iopub.execute_input": "2022-07-09T09:01:01.780533Z",
     "iopub.status.busy": "2022-07-09T09:01:01.780258Z",
     "iopub.status.idle": "2022-07-09T09:01:01.785583Z",
     "shell.execute_reply": "2022-07-09T09:01:01.784892Z",
     "shell.execute_reply.started": "2022-07-09T09:01:01.780509Z"
    },
    "tags": []
   },
   "outputs": [
    {
     "data": {
      "text/plain": [
       "(442, 48)"
      ]
     },
     "execution_count": 66,
     "metadata": {},
     "output_type": "execute_result"
    }
   ],
   "source": [
    "len(squad_en['train']), len(squad_en['validation'])"
   ]
  },
  {
   "cell_type": "code",
   "execution_count": 64,
   "metadata": {
    "execution": {
     "iopub.execute_input": "2022-07-09T09:00:34.037360Z",
     "iopub.status.busy": "2022-07-09T09:00:34.036818Z",
     "iopub.status.idle": "2022-07-09T09:00:34.041090Z",
     "shell.execute_reply": "2022-07-09T09:00:34.040434Z",
     "shell.execute_reply.started": "2022-07-09T09:00:34.037334Z"
    },
    "tags": []
   },
   "outputs": [],
   "source": [
    "# squad_dataset['train']"
   ]
  },
  {
   "cell_type": "code",
   "execution_count": 68,
   "metadata": {
    "execution": {
     "iopub.execute_input": "2022-07-09T09:01:14.825660Z",
     "iopub.status.busy": "2022-07-09T09:01:14.825394Z",
     "iopub.status.idle": "2022-07-09T09:01:14.968414Z",
     "shell.execute_reply": "2022-07-09T09:01:14.967864Z",
     "shell.execute_reply.started": "2022-07-09T09:01:14.825631Z"
    },
    "tags": []
   },
   "outputs": [
    {
     "name": "stdout",
     "output_type": "stream",
     "text": [
      "Number of train examples: 87,599\n",
      "Number of validation examples: 10,570\n"
     ]
    }
   ],
   "source": [
    "squad_dataset = defaultdict(lambda : dict())\n",
    "for split_name in ['train', 'validation']:\n",
    "    for i, item in enumerate(squad_en[split_name]):\n",
    "        paragraphs = item['paragraphs']\n",
    "#         print('.' ,end='')\n",
    "        for j, paragraph in enumerate(paragraphs):\n",
    "\n",
    "            context = paragraph['context']\n",
    "            context_qa_pairs = get_squad_answer_str(context=context, qas=paragraph['qas'])\n",
    "\n",
    "            for context_qa_pair in context_qa_pairs:\n",
    "                qid, context, question, answer, answer_start = context_qa_pair\n",
    "\n",
    "                qa_item = {\n",
    "                    'qid': qid,\n",
    "                    'question': question,\n",
    "                    'context': context,\n",
    "                    'answer': answer,\n",
    "                    'answer_start': answer_start,\n",
    "                }\n",
    "                squad_dataset[split_name][qid] = qa_item\n",
    "    \n",
    "    print(f'Number of {split_name} examples: {len(squad_dataset[split_name]):,}')"
   ]
  },
  {
   "cell_type": "code",
   "execution_count": 23,
   "metadata": {
    "execution": {
     "iopub.execute_input": "2022-07-09T08:44:26.409161Z",
     "iopub.status.busy": "2022-07-09T08:44:26.408909Z",
     "iopub.status.idle": "2022-07-09T08:44:26.411844Z",
     "shell.execute_reply": "2022-07-09T08:44:26.411186Z",
     "shell.execute_reply.started": "2022-07-09T08:44:26.409138Z"
    },
    "tags": []
   },
   "outputs": [],
   "source": [
    "# train_squad[0]\n",
    "# qid, lang, quesiotn, context"
   ]
  },
  {
   "cell_type": "code",
   "execution_count": 90,
   "metadata": {
    "execution": {
     "iopub.execute_input": "2022-07-09T09:13:15.573633Z",
     "iopub.status.busy": "2022-07-09T09:13:15.573360Z",
     "iopub.status.idle": "2022-07-09T09:13:16.077147Z",
     "shell.execute_reply": "2022-07-09T09:13:16.076601Z",
     "shell.execute_reply.started": "2022-07-09T09:13:15.573601Z"
    },
    "tags": []
   },
   "outputs": [
    {
     "data": {
      "text/plain": [
       "dict_keys(['en_all', 'ar_all', 'de_all', 'el_all', 'es_all', 'hi_all', 'vi_all', 'ro_all', 'ru_all', 'th_all', 'tr_all', 'zh_all'])"
      ]
     },
     "execution_count": 90,
     "metadata": {},
     "output_type": "execute_result"
    }
   ],
   "source": [
    "xquad_xx = {}\n",
    "XQUAD_LANGS = ['en', 'ar', 'de','el', 'es', 'hi', 'vi','ro', 'ru', 'th','tr',  'zh']\n",
    "for lang in XQUAD_LANGS:\n",
    "    xquad_xx[f'{lang}_all'] = json.load(open(os.path.join(XQUAD_DATA_DIR, f'xquad.{lang}.json'), 'r'))['data']\n",
    "xquad_xx.keys()"
   ]
  },
  {
   "cell_type": "code",
   "execution_count": 91,
   "metadata": {
    "execution": {
     "iopub.execute_input": "2022-07-09T09:13:16.078493Z",
     "iopub.status.busy": "2022-07-09T09:13:16.078241Z",
     "iopub.status.idle": "2022-07-09T09:13:16.081350Z",
     "shell.execute_reply": "2022-07-09T09:13:16.080739Z",
     "shell.execute_reply.started": "2022-07-09T09:13:16.078469Z"
    },
    "tags": []
   },
   "outputs": [],
   "source": [
    "# xquad_xx['en_all'][0]"
   ]
  },
  {
   "cell_type": "code",
   "execution_count": 92,
   "metadata": {
    "execution": {
     "iopub.execute_input": "2022-07-09T09:13:16.162143Z",
     "iopub.status.busy": "2022-07-09T09:13:16.161873Z",
     "iopub.status.idle": "2022-07-09T09:13:16.166946Z",
     "shell.execute_reply": "2022-07-09T09:13:16.166021Z",
     "shell.execute_reply.started": "2022-07-09T09:13:16.162100Z"
    },
    "tags": []
   },
   "outputs": [],
   "source": [
    "def get_squad_answer_str(context, qas):\n",
    "    context_qa_pairs = []\n",
    "    for qa in qas:\n",
    "        qid = qa['id']\n",
    "        question = qa['question']\n",
    "        answer = qa['answers'][0]['text']\n",
    "        answer_start = qa['answers'][0]['answer_start']\n",
    "        context_qa_pairs.append((qid, context, question, answer, answer_start))\n",
    "    return context_qa_pairs"
   ]
  },
  {
   "cell_type": "code",
   "execution_count": 93,
   "metadata": {
    "execution": {
     "iopub.execute_input": "2022-07-09T09:13:16.239085Z",
     "iopub.status.busy": "2022-07-09T09:13:16.238834Z",
     "iopub.status.idle": "2022-07-09T09:13:16.268636Z",
     "shell.execute_reply": "2022-07-09T09:13:16.267682Z",
     "shell.execute_reply.started": "2022-07-09T09:13:16.239060Z"
    },
    "tags": []
   },
   "outputs": [],
   "source": [
    "xquad_question_counter = Counter()\n",
    "# n_paragraph = len(xquad_en['data'])\n",
    "xquad_dataset= defaultdict(lambda: [])\n",
    "\n",
    "for lang in XQUAD_LANGS:\n",
    "    for i, item in enumerate(xquad_xx[f'{lang}_all']):\n",
    "        paragraphs = item['paragraphs']\n",
    "#         print('.' ,end='')\n",
    "        for j, paragraph in enumerate(paragraphs):\n",
    "            xquad_question_counter[f'd-{i}_p-{j}'] = len(paragraph['qas'])\n",
    "\n",
    "            context = paragraph['context']\n",
    "            context_qa_pairs = get_squad_answer_str(context=context, qas=paragraph['qas'])\n",
    "\n",
    "            for context_qa_pair in context_qa_pairs:\n",
    "                qid, context, question, answer, answer_start = context_qa_pair\n",
    "\n",
    "                qa_item = {\n",
    "                    'lang': lang,\n",
    "                    'qid': qid,\n",
    "                    'question': question,\n",
    "#                     'context': context,\n",
    "                    'answer': answer,\n",
    "                    'answer_start': answer_start,\n",
    "                }\n",
    "                xquad_dataset[lang].append(qa_item)"
   ]
  },
  {
   "cell_type": "code",
   "execution_count": 94,
   "metadata": {
    "execution": {
     "iopub.execute_input": "2022-07-09T09:13:16.321752Z",
     "iopub.status.busy": "2022-07-09T09:13:16.321498Z",
     "iopub.status.idle": "2022-07-09T09:13:16.325617Z",
     "shell.execute_reply": "2022-07-09T09:13:16.325089Z",
     "shell.execute_reply.started": "2022-07-09T09:13:16.321727Z"
    },
    "tags": []
   },
   "outputs": [
    {
     "data": {
      "text/plain": [
       "12"
      ]
     },
     "execution_count": 94,
     "metadata": {},
     "output_type": "execute_result"
    }
   ],
   "source": [
    "len(xquad_dataset)"
   ]
  },
  {
   "cell_type": "code",
   "execution_count": 95,
   "metadata": {
    "execution": {
     "iopub.execute_input": "2022-07-09T09:13:16.414724Z",
     "iopub.status.busy": "2022-07-09T09:13:16.414360Z",
     "iopub.status.idle": "2022-07-09T09:13:16.419361Z",
     "shell.execute_reply": "2022-07-09T09:13:16.418736Z",
     "shell.execute_reply.started": "2022-07-09T09:13:16.414697Z"
    },
    "tags": []
   },
   "outputs": [
    {
     "data": {
      "text/plain": [
       "[]"
      ]
     },
     "execution_count": 95,
     "metadata": {},
     "output_type": "execute_result"
    }
   ],
   "source": [
    "xquad_dataset[0]"
   ]
  },
  {
   "cell_type": "code",
   "execution_count": 96,
   "metadata": {
    "execution": {
     "iopub.execute_input": "2022-07-09T09:13:16.490702Z",
     "iopub.status.busy": "2022-07-09T09:13:16.490442Z",
     "iopub.status.idle": "2022-07-09T09:13:16.493818Z",
     "shell.execute_reply": "2022-07-09T09:13:16.492998Z",
     "shell.execute_reply.started": "2022-07-09T09:13:16.490672Z"
    },
    "tags": []
   },
   "outputs": [],
   "source": [
    "# squad_dataset['train'].keys()"
   ]
  },
  {
   "cell_type": "markdown",
   "metadata": {},
   "source": [
    "### Separate train and validation set"
   ]
  },
  {
   "cell_type": "code",
   "execution_count": 97,
   "metadata": {
    "execution": {
     "iopub.execute_input": "2022-07-09T09:13:16.789330Z",
     "iopub.status.busy": "2022-07-09T09:13:16.789083Z",
     "iopub.status.idle": "2022-07-09T09:13:16.814627Z",
     "shell.execute_reply": "2022-07-09T09:13:16.813727Z",
     "shell.execute_reply.started": "2022-07-09T09:13:16.789306Z"
    },
    "tags": []
   },
   "outputs": [],
   "source": [
    "xquad_dataset_split = defaultdict(lambda : list())\n",
    "\n",
    "for split_name in ['train', 'validation']:\n",
    "    for lang in XQUAD_LANGS:\n",
    "        xquad_dataset_split[f'{lang}_{split_name}'] = []\n",
    "        for item in xquad_dataset[f'{lang}']:\n",
    "            if item['qid'] in squad_dataset[split_name].keys():\n",
    "                _item = item\n",
    "                _item['context'] = squad_dataset[split_name][item['qid']]['context']\n",
    "                xquad_dataset_split[f'{lang}_{split_name}'].append(_item)"
   ]
  },
  {
   "cell_type": "code",
   "execution_count": 98,
   "metadata": {
    "execution": {
     "iopub.execute_input": "2022-07-09T09:13:16.990444Z",
     "iopub.status.busy": "2022-07-09T09:13:16.990209Z",
     "iopub.status.idle": "2022-07-09T09:13:16.994696Z",
     "shell.execute_reply": "2022-07-09T09:13:16.994097Z",
     "shell.execute_reply.started": "2022-07-09T09:13:16.990420Z"
    },
    "tags": []
   },
   "outputs": [
    {
     "name": "stdout",
     "output_type": "stream",
     "text": [
      "en_train: 0\n",
      "ar_train: 0\n",
      "de_train: 0\n",
      "el_train: 0\n",
      "es_train: 0\n",
      "hi_train: 0\n",
      "vi_train: 0\n",
      "ro_train: 0\n",
      "ru_train: 0\n",
      "th_train: 0\n",
      "tr_train: 0\n",
      "zh_train: 0\n",
      "en_validation: 1190\n",
      "ar_validation: 1190\n",
      "de_validation: 1190\n",
      "el_validation: 1190\n",
      "es_validation: 1190\n",
      "hi_validation: 1190\n",
      "vi_validation: 1190\n",
      "ro_validation: 1190\n",
      "ru_validation: 1190\n",
      "th_validation: 1190\n",
      "tr_validation: 1190\n",
      "zh_validation: 1190\n"
     ]
    }
   ],
   "source": [
    "for key, vals in xquad_dataset_split.items():\n",
    "    print(f'{key}: {len(vals)}')"
   ]
  },
  {
   "cell_type": "code",
   "execution_count": null,
   "metadata": {},
   "outputs": [],
   "source": []
  },
  {
   "cell_type": "code",
   "execution_count": null,
   "metadata": {},
   "outputs": [],
   "source": []
  }
 ],
 "metadata": {
  "kernelspec": {
   "display_name": "Python 3 (ipykernel)",
   "language": "python",
   "name": "python3"
  },
  "language_info": {
   "codemirror_mode": {
    "name": "ipython",
    "version": 3
   },
   "file_extension": ".py",
   "mimetype": "text/x-python",
   "name": "python",
   "nbconvert_exporter": "python",
   "pygments_lexer": "ipython3",
   "version": "3.7.6"
  }
 },
 "nbformat": 4,
 "nbformat_minor": 4
}
