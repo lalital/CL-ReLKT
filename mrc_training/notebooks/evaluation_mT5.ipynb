{
 "cells": [
  {
   "cell_type": "markdown",
   "id": "1294c333",
   "metadata": {},
   "source": [
    "# Evaluation"
   ]
  },
  {
   "cell_type": "code",
   "execution_count": null,
   "id": "fd64dc02",
   "metadata": {},
   "outputs": [],
   "source": [
    "import os\n",
    "import re\n",
    "import argparse\n",
    "import json\n",
    "import sys"
   ]
  },
  {
   "cell_type": "code",
   "execution_count": null,
   "id": "d62e0b9a-3803-4b1b-a8e6-0f2173c1e9a1",
   "metadata": {},
   "outputs": [],
   "source": [
    "\n",
    "\n",
    "import torch\n",
    "from transformers import MT5ForConditionalGeneration, MT5Tokenizer, DataCollatorForSeq2Seq, DataCollatorWithPadding\n",
    "from datasets import Dataset, load_dataset\n",
    "\n",
    "from pprint import pprint\n",
    "\n",
    "from tqdm.notebook import tqdm\n",
    "\n",
    "device = \"cuda:0\"# \"cuda\" if torch.cuda.is_available() else \"cpu\""
   ]
  },
  {
   "cell_type": "code",
   "execution_count": null,
   "id": "0dc27fae",
   "metadata": {},
   "outputs": [],
   "source": [
    "def normalize_answer(s):\n",
    "    \"\"\"Lower text and remove punctuation, articles and extra whitespace.\"\"\"\n",
    "    def remove_articles(text):\n",
    "        tx = re.sub(r'\\b(a|an|the)\\b.', ' ', text)\n",
    "        tx = tx.replace('pad', '').replace('s', '')\n",
    "        return tx\n",
    "\n",
    "    def white_space_fix(text):\n",
    "        return ' '.join(text.split())\n",
    "\n",
    "    def remove_punc(text):\n",
    "        exclude = set(string.punctuation)\n",
    "        return ''.join(ch for ch in text if ch not in exclude)\n",
    "\n",
    "    def lower(text):\n",
    "        return text.lower()\n",
    "\n",
    "    return white_space_fix(remove_articles(remove_punc(lower(s))))\n",
    "\n",
    "\n",
    "def f1_score(prediction, ground_truth):\n",
    "    prediction_tokens = normalize_answer(prediction).split()\n",
    "    ground_truth_tokens = normalize_answer(ground_truth).split()\n",
    "    common = Counter(prediction_tokens) & Counter(ground_truth_tokens)\n",
    "    num_same = sum(common.values())\n",
    "    if num_same == 0:\n",
    "        return 0\n",
    "    precision = 1.0 * num_same / len(prediction_tokens)\n",
    "    recall = 1.0 * num_same / len(ground_truth_tokens)\n",
    "    f1 = (2 * precision * recall) / (precision + recall)\n",
    "    return f1\n",
    "\n",
    "\n",
    "def exact_match_score(prediction, ground_truth):\n",
    "    \n",
    "    return (normalize_answer(prediction) == normalize_answer(ground_truth))\n",
    "\n",
    "\n",
    "def metric_max_over_ground_truths(metric_fn, prediction, ground_truths):\n",
    "    scores_for_ground_truths = []\n",
    "    for ground_truth in ground_truths:\n",
    "        score = metric_fn(prediction, ground_truth)\n",
    "        scores_for_ground_truths.append(score)\n",
    "    return max(scores_for_ground_truths)\n",
    "\n",
    "\n",
    "def evaluate(gold_answers, predictions):\n",
    "    f1 = exact_match = total = 0\n",
    "\n",
    "    for ground_truths, prediction in zip(gold_answers, predictions):\n",
    "        total += 1\n",
    "        exact_match += metric_max_over_ground_truths(\n",
    "                    exact_match_score, prediction, ground_truths)\n",
    "        f1 += metric_max_over_ground_truths(\n",
    "          f1_score, prediction, ground_truths)\n",
    "\n",
    "    exact_match = 100.0 * exact_match / total\n",
    "    f1 = 100.0 * f1 / total\n",
    "\n",
    "    return {'exact_match': exact_match, 'f1': f1}"
   ]
  },
  {
   "cell_type": "code",
   "execution_count": null,
   "id": "afd60871",
   "metadata": {},
   "outputs": [],
   "source": [
    "# process the examples in input and target text format and the eos token at the end \n",
    "def add_eos_to_examples(example):\n",
    "    example['input_text'] = 'question: %s context: %s' % (example['paragraphs'][0]['qas'][0]['question'], example['paragraphs'][0]['context'])\n",
    "    example['target_text'] = '%s' % example['paragraphs'][0]['qas'][0]['answers'][0]['text']\n",
    "    return example\n",
    "\n",
    "# tokenize the examples\n",
    "def convert_to_features(example_batch):\n",
    "    input_encodings = tokenizer.batch_encode_plus(example_batch['input_text'], pad_to_max_length=True, max_length=512)\n",
    "    target_encodings = tokenizer.batch_encode_plus(example_batch['target_text'], pad_to_max_length=True, max_length=16)\n",
    "\n",
    "    encodings = {\n",
    "        'input_ids': input_encodings['input_ids'], \n",
    "        'attention_mask': input_encodings['attention_mask'],\n",
    "        'target_ids': target_encodings['input_ids'],\n",
    "        'target_attention_mask': target_encodings['attention_mask']\n",
    "    }\n",
    "\n",
    "    return encodings"
   ]
  },
  {
   "cell_type": "markdown",
   "id": "6f73e66f",
   "metadata": {
    "tags": []
   },
   "source": [
    "# MLQA"
   ]
  },
  {
   "cell_type": "code",
   "execution_count": null,
   "id": "914154fd",
   "metadata": {
    "jupyter": {
     "source_hidden": true
    },
    "tags": []
   },
   "outputs": [],
   "source": [
    "model = MT5ForConditionalGeneration.from_pretrained('/ist/ist-share/scads/korn/MRC/tmp/mt5-mlqa/').to(device) \n",
    "tokenizer = MT5Tokenizer.from_pretrained('/ist/ist-share/scads/korn/MRC/tmp/mt5-mlqa/')"
   ]
  },
  {
   "cell_type": "markdown",
   "id": "693ea9db",
   "metadata": {},
   "source": [
    "### Your dataset"
   ]
  },
  {
   "cell_type": "code",
   "execution_count": null,
   "id": "c00ea4ff",
   "metadata": {},
   "outputs": [],
   "source": [
    "data_files = {\"test\": \"/ist/ist-share/scads/korn/datasets/qa_datasset/MLQA/dev/dev-context-ar-question-vi.json\"}\n",
    "test_dataset = load_dataset(\"json\", data_files=data_files, split=\"test\", field='data')"
   ]
  },
  {
   "cell_type": "code",
   "execution_count": null,
   "id": "6738535e",
   "metadata": {},
   "outputs": [],
   "source": [
    "dataset_features = test_dataset.map(add_eos_to_examples, load_from_cache_file=False)\n",
    "dataset_features = dataset_features.map(convert_to_features, batched=True, load_from_cache_file=False)\n",
    "\n",
    "# set the tensor type and the columns which the dataset should return\n",
    "columns = ['input_ids', 'target_ids', 'attention_mask', 'target_attention_mask']\n",
    "dataset_features.set_format(type='torch', columns=columns)\n",
    "dataloader = torch.utils.data.DataLoader(dataset_features, batch_size=32)"
   ]
  },
  {
   "cell_type": "code",
   "execution_count": null,
   "id": "ade8689a",
   "metadata": {},
   "outputs": [],
   "source": [
    "answers = []\n",
    "for batch in tqdm(dataloader):\n",
    "    outs = model.generate(input_ids=batch['input_ids'].to(device), \n",
    "                        attention_mask=batch['attention_mask'].to(device),\n",
    "                        max_length=16,\n",
    "                        early_stopping=True)\n",
    "    outs = [tokenizer.decode(ids) for ids in outs]\n",
    "    answers.extend(outs)\n",
    "    \n",
    "predictions = []\n",
    "references = []\n",
    "for ref, pred in zip(test_dataset, answers):\n",
    "    predictions.append(pred)\n",
    "    references.append([ref['paragraphs'][0]['qas'][0]['answers'][0]['text']])\n",
    "\n",
    "evaluate(references, predictions)"
   ]
  },
  {
   "cell_type": "markdown",
   "id": "c98fe227",
   "metadata": {
    "jp-MarkdownHeadingCollapsed": true,
    "tags": []
   },
   "source": [
    "# XORQA"
   ]
  },
  {
   "cell_type": "code",
   "execution_count": null,
   "id": "41902ca0",
   "metadata": {},
   "outputs": [],
   "source": [
    "model = MT5ForConditionalGeneration.from_pretrained('/ist/ist-share/scads/korn/MRC/tmp/mt5-xorqa/').to(device) \n",
    "tokenizer = MT5Tokenizer.from_pretrained('/ist/ist-share/scads/korn/MRC/tmp/mt5-xorqa/')"
   ]
  },
  {
   "cell_type": "markdown",
   "id": "9dcace11",
   "metadata": {},
   "source": [
    "### Your dataset"
   ]
  },
  {
   "cell_type": "code",
   "execution_count": null,
   "id": "0496dd20",
   "metadata": {},
   "outputs": [],
   "source": [
    "data_files = {\"test\": \"/ist/ist-share/scads/korn/datasets/tydi_xor_gp/gp_squad_dev_data.json\"}\n",
    "test_dataset = load_dataset(\"json\", data_files=data_files, split=\"test\", field='data')"
   ]
  },
  {
   "cell_type": "code",
   "execution_count": null,
   "id": "6f73b6dd",
   "metadata": {},
   "outputs": [],
   "source": [
    "dataset_features = test_dataset.map(add_eos_to_examples, load_from_cache_file=False)\n",
    "dataset_features = dataset_features.map(convert_to_features, batched=True, load_from_cache_file=False)\n",
    "\n",
    "# set the tensor type and the columns which the dataset should return\n",
    "columns = ['input_ids', 'target_ids', 'attention_mask', 'target_attention_mask']\n",
    "dataset_features.set_format(type='torch', columns=columns)\n",
    "dataloader = torch.utils.data.DataLoader(dataset_features, batch_size=32)"
   ]
  },
  {
   "cell_type": "code",
   "execution_count": null,
   "id": "83d14b62",
   "metadata": {},
   "outputs": [],
   "source": [
    "answers = []\n",
    "for batch in tqdm(dataloader):\n",
    "    outs = model.generate(input_ids=batch['input_ids'].to(device), \n",
    "                        attention_mask=batch['attention_mask'].to(device),\n",
    "                        max_length=16,\n",
    "                        early_stopping=True)\n",
    "    outs = [tokenizer.decode(ids) for ids in outs]\n",
    "    answers.extend(outs)\n",
    "    \n",
    "predictions = []\n",
    "references = []\n",
    "for ref, pred in zip(test_dataset, answers):\n",
    "    predictions.append(pred)\n",
    "    references.append([ref['paragraphs'][0]['qas'][0]['answers'][0]['text']])\n",
    "\n",
    "evaluate(references, predictions)"
   ]
  },
  {
   "cell_type": "markdown",
   "id": "7e20758a",
   "metadata": {},
   "source": [
    "# XQuAD"
   ]
  },
  {
   "cell_type": "code",
   "execution_count": null,
   "id": "2df1cb5d-8a0a-401c-bee6-032cad5753ed",
   "metadata": {},
   "outputs": [],
   "source": [
    "import os\n",
    "import glob"
   ]
  },
  {
   "cell_type": "code",
   "execution_count": null,
   "id": "b1451570",
   "metadata": {},
   "outputs": [],
   "source": [
    "# final ckp\n",
    "XQUAD_FINETUNED_MODEL_DIR = '/ist/ist-share/scads/aires/CL-ReLKT/mrc_training/checkpoints/t5-base.seq2seq.squad_hparams.bz-64.grad_acc-1.lr-1e-4.epochs-25'\n",
    "\n",
    "# model = MT5ForConditionalGeneration.from_pretrained(XQUAD_FINETUNED_MODEL_DIR).to(device)\n",
    "# tokenizer = MT5Tokenizer.from_pretrained(XQUAD_FINETUNED_MODEL_DIR)"
   ]
  },
  {
   "cell_type": "code",
   "execution_count": 8,
   "id": "807d957b-636a-4a4e-b65a-076687975f55",
   "metadata": {},
   "outputs": [
    {
     "data": {
      "text/plain": [
       "['/ist/ist-share/scads/aires/CL-ReLKT/mrc_training/checkpoints/t5-base.seq2seq.squad_hparams.bz-64.grad_acc-2.lr-1e-4.epochs-10/checkpoint-684',\n",
       " '/ist/ist-share/scads/aires/CL-ReLKT/mrc_training/checkpoints/t5-base.seq2seq.squad_hparams.bz-64.grad_acc-2.lr-1e-4.epochs-10/checkpoint-1368',\n",
       " '/ist/ist-share/scads/aires/CL-ReLKT/mrc_training/checkpoints/t5-base.seq2seq.squad_hparams.bz-64.grad_acc-2.lr-1e-4.epochs-10/checkpoint-2052',\n",
       " '/ist/ist-share/scads/aires/CL-ReLKT/mrc_training/checkpoints/t5-base.seq2seq.squad_hparams.bz-64.grad_acc-2.lr-1e-4.epochs-10/checkpoint-2736',\n",
       " '/ist/ist-share/scads/aires/CL-ReLKT/mrc_training/checkpoints/t5-base.seq2seq.squad_hparams.bz-64.grad_acc-2.lr-1e-4.epochs-10/checkpoint-3420',\n",
       " '/ist/ist-share/scads/aires/CL-ReLKT/mrc_training/checkpoints/t5-base.seq2seq.squad_hparams.bz-64.grad_acc-2.lr-1e-4.epochs-10/checkpoint-4104',\n",
       " '/ist/ist-share/scads/aires/CL-ReLKT/mrc_training/checkpoints/t5-base.seq2seq.squad_hparams.bz-64.grad_acc-2.lr-1e-4.epochs-10/checkpoint-4788',\n",
       " '/ist/ist-share/scads/aires/CL-ReLKT/mrc_training/checkpoints/t5-base.seq2seq.squad_hparams.bz-64.grad_acc-2.lr-1e-4.epochs-10/checkpoint-5472',\n",
       " '/ist/ist-share/scads/aires/CL-ReLKT/mrc_training/checkpoints/t5-base.seq2seq.squad_hparams.bz-64.grad_acc-2.lr-1e-4.epochs-10/checkpoint-6156',\n",
       " '/ist/ist-share/scads/aires/CL-ReLKT/mrc_training/checkpoints/t5-base.seq2seq.squad_hparams.bz-64.grad_acc-2.lr-1e-4.epochs-10/checkpoint-6840']"
      ]
     },
     "execution_count": 8,
     "metadata": {},
     "output_type": "execute_result"
    }
   ],
   "source": [
    "XQUAD_FINETUNED_MODEL_DIRS = sorted(glob.glob(os.path.join(XQUAD_FINETUNED_MODEL_DIR, 'checkpoint-*')), key=lambda x: int(x.split('-')[-1]) )\n",
    "XQUAD_FINETUNED_MODEL_DIRS"
   ]
  },
  {
   "cell_type": "code",
   "execution_count": 9,
   "id": "d2733005-8a70-4fcc-bec6-8935e9462aac",
   "metadata": {},
   "outputs": [],
   "source": [
    "# model/ist/ist-share/scads/aires/CL-ReLKT/mrc_training/checkpoints/exp001_r9.1.t5-large.seq2seq.squad_hparams.bz-8.grad_acc-2.lr-1e-3.max_steps-684/"
   ]
  },
  {
   "cell_type": "markdown",
   "id": "0f96be8e",
   "metadata": {},
   "source": [
    "### Your dataset"
   ]
  },
  {
   "cell_type": "code",
   "execution_count": 10,
   "id": "0df30daf-d9f0-4bad-9516-022292c81dc6",
   "metadata": {},
   "outputs": [],
   "source": [
    "T5_TOKENIZER_MODEL_DIR = '/ist/ist-share/scads/aires/CL-ReLKT/mrc_training/checkpoints/exp001_r9.1.t5-large.seq2seq.squad_hparams.bz-8.grad_acc-2.lr-1e-3.max_steps-684'\n",
    "\n",
    "tokenizer = MT5Tokenizer.from_pretrained(T5_TOKENIZER_MODEL_DIR)\n"
   ]
  },
  {
   "cell_type": "code",
   "execution_count": 11,
   "id": "62e2a61c-5d4c-496e-8802-ae05122aa28e",
   "metadata": {},
   "outputs": [],
   "source": [
    "SQUAD_EN_DATA_DIR = '/ist/ist-share/scads/aires/CL-ReLKT/mrc_training/data/xquad/en/'\n",
    "\n",
    "squad_en = { \n",
    "     'train': json.load(open(os.path.join(SQUAD_EN_DATA_DIR, 'train-v1.1.json')))['data'],\n",
    "     'validation': json.load(open(os.path.join(SQUAD_EN_DATA_DIR, 'dev-v1.1.json')))['data']\n",
    "}"
   ]
  },
  {
   "cell_type": "code",
   "execution_count": 12,
   "id": "52f28d63-37a4-4668-90a2-6c26fdbc3ac7",
   "metadata": {},
   "outputs": [],
   "source": [
    "def get_squad_answer_str(context, qas):\n",
    "    context_qa_pairs = []\n",
    "    for qa in qas:\n",
    "        qid = qa['id']\n",
    "        question = qa['question']\n",
    "        answer = qa['answers'][0]['text']\n",
    "        answer_start = qa['answers'][0]['answer_start']\n",
    "        context_qa_pairs.append((qid, context, question, answer, answer_start))\n",
    "    return context_qa_pairs"
   ]
  },
  {
   "cell_type": "code",
   "execution_count": 13,
   "id": "1fe7cff6-e853-454b-87a8-4f31cf5a6855",
   "metadata": {},
   "outputs": [
    {
     "name": "stdout",
     "output_type": "stream",
     "text": [
      "Number of train examples: 87,599\n",
      "Number of validation examples: 10,570\n"
     ]
    }
   ],
   "source": [
    "squad_dataset = defaultdict(lambda : dict())\n",
    "for split_name in ['train', 'validation']:\n",
    "    for i, item in enumerate(squad_en[split_name]):\n",
    "        paragraphs = item['paragraphs']\n",
    "#         print('.' ,end='')\n",
    "        for j, paragraph in enumerate(paragraphs):\n",
    "\n",
    "            context = paragraph['context']\n",
    "            context_qa_pairs = get_squad_answer_str(context=context, qas=paragraph['qas'])\n",
    "\n",
    "            for context_qa_pair in context_qa_pairs:\n",
    "                qid, context, question, answer, answer_start = context_qa_pair\n",
    "\n",
    "                qa_item = {\n",
    "                    'qid': qid,\n",
    "                    'question': question,\n",
    "                    'context': context,\n",
    "                    'answer': answer,\n",
    "                    'answer_start': answer_start,\n",
    "                }\n",
    "                squad_dataset[split_name][qid] = qa_item\n",
    "    \n",
    "    print(f'Number of {split_name} examples: {len(squad_dataset[split_name]):,}')"
   ]
  },
  {
   "cell_type": "code",
   "execution_count": 14,
   "id": "2a0e399b-3406-4566-8d8e-207aacb3dfb2",
   "metadata": {},
   "outputs": [
    {
     "data": {
      "text/plain": [
       "10570"
      ]
     },
     "execution_count": 14,
     "metadata": {},
     "output_type": "execute_result"
    }
   ],
   "source": [
    "squad_dev = list(squad_dataset['validation'].values())\n",
    "\n",
    "len(squad_dev)"
   ]
  },
  {
   "cell_type": "code",
   "execution_count": 15,
   "id": "2aff28d6-d9c5-40cf-ac30-ccfd5df9bdec",
   "metadata": {},
   "outputs": [
    {
     "data": {
      "text/plain": [
       "{'qid': '56be4db0acb8001400a502ec',\n",
       " 'question': 'Which NFL team represented the AFC at Super Bowl 50?',\n",
       " 'context': 'Super Bowl 50 was an American football game to determine the champion of the National Football League (NFL) for the 2015 season. The American Football Conference (AFC) champion Denver Broncos defeated the National Football Conference (NFC) champion Carolina Panthers 24–10 to earn their third Super Bowl title. The game was played on February 7, 2016, at Levi\\'s Stadium in the San Francisco Bay Area at Santa Clara, California. As this was the 50th Super Bowl, the league emphasized the \"golden anniversary\" with various gold-themed initiatives, as well as temporarily suspending the tradition of naming each Super Bowl game with Roman numerals (under which the game would have been known as \"Super Bowl L\"), so that the logo could prominently feature the Arabic numerals 50.',\n",
       " 'answer': 'Denver Broncos',\n",
       " 'answer_start': 177}"
      ]
     },
     "execution_count": 15,
     "metadata": {},
     "output_type": "execute_result"
    }
   ],
   "source": [
    "squad_dev[0]"
   ]
  },
  {
   "cell_type": "code",
   "execution_count": 16,
   "id": "6dbbce3f-a320-44a5-8611-25a59a8e1db5",
   "metadata": {},
   "outputs": [],
   "source": [
    "# process the examples in input and target text format and the eos token at the end \n",
    "def add_eos_to_examples(example):\n",
    "    result = {}\n",
    "    context = example['context']\n",
    "    question = example['question']\n",
    "    answer = example['answer']\n",
    "\n",
    "    result['input_text'] =  'question: %s context: %s' % (question, context)\n",
    "    result['target_text'] = '%s' % answer\n",
    "    \n",
    "    return result\n",
    "\n",
    "def convert_to_features(example):\n",
    "\n",
    "    encoding = {}\n",
    "    \n",
    "    input_encoding = tokenizer.encode_plus(example['input_text'],\n",
    "                                           pad_to_max_length=True,\n",
    "                                           max_length=384, add_special_tokens=True)\n",
    "    target_encoding = tokenizer.encode_plus(example['target_text'],\n",
    "                                            pad_to_max_length=True,\n",
    "                                            max_length=16, add_special_tokens=True)\n",
    "\n",
    "    encoding['input_ids'] = input_encoding['input_ids'] \n",
    "    encoding['attention_mask'] = input_encoding['attention_mask'] \n",
    "    encoding['target_ids'] = target_encoding['input_ids'] \n",
    "    encoding['target_attention_mask'] =  target_encoding['attention_mask'] \n",
    "\n",
    "    # print(f\"type(encodings['input_ids']: {type(encodings['input_ids'])}\")\n",
    "    return encoding"
   ]
  },
  {
   "cell_type": "code",
   "execution_count": 17,
   "id": "478c875d",
   "metadata": {
    "tags": []
   },
   "outputs": [
    {
     "name": "stderr",
     "output_type": "stream",
     "text": [
      "Truncation was not explicitly activated but `max_length` is provided a specific value, please use `truncation=True` to explicitly truncate examples to max length. Defaulting to 'longest_first' truncation strategy. If you encode pairs of sequences (GLUE-style) with the tokenizer you can select this strategy more precisely by providing a specific strategy to `truncation`.\n",
      "/ist/ist-share/scads/aires/CL-ReLKT/mrc_training/transformers/src/transformers/tokenization_utils_base.py:2323: FutureWarning: The `pad_to_max_length` argument is deprecated and will be removed in a future version, use `padding=True` or `padding='longest'` to pad to the longest sequence in the batch, or use `padding='max_length'` to pad to a max length. In this case, you can give a specific length with `max_length` (e.g. `max_length=45`) or leave max_length to None to pad to the maximal input size of the model (e.g. 512 for Bert).\n",
      "  warnings.warn(\n"
     ]
    }
   ],
   "source": [
    "squad_dev_features = list(map(convert_to_features, map(add_eos_to_examples, squad_dev)))"
   ]
  },
  {
   "cell_type": "code",
   "execution_count": 18,
   "id": "e3457453-cbb7-477f-926f-b222e6d607b2",
   "metadata": {},
   "outputs": [
    {
     "data": {
      "text/plain": [
       "0"
      ]
     },
     "execution_count": 18,
     "metadata": {},
     "output_type": "execute_result"
    }
   ],
   "source": [
    "tokenizer.pad_token_id"
   ]
  },
  {
   "cell_type": "code",
   "execution_count": 19,
   "id": "e0599e08-b7cb-4422-b550-b644da1e530e",
   "metadata": {},
   "outputs": [
    {
     "data": {
      "text/plain": [
       "10570"
      ]
     },
     "execution_count": 19,
     "metadata": {},
     "output_type": "execute_result"
    }
   ],
   "source": [
    "references = [[item['answer']] for item in squad_dev]\n",
    "len(references)"
   ]
  },
  {
   "cell_type": "markdown",
   "id": "2ffbc62a-b1f8-4d67-9f8b-c2cb9bbb44fd",
   "metadata": {},
   "source": [
    "### Evaluate for each ckp"
   ]
  },
  {
   "cell_type": "code",
   "execution_count": 20,
   "id": "d3a375f6-95c8-4512-a5ad-f6ddafd3a692",
   "metadata": {
    "tags": []
   },
   "outputs": [
    {
     "name": "stdout",
     "output_type": "stream",
     "text": [
      "MODEL_DIR: /ist/ist-share/scads/aires/CL-ReLKT/mrc_training/checkpoints/t5-base.seq2seq.squad_hparams.bz-64.grad_acc-2.lr-1e-4.epochs-10/checkpoint-684\n"
     ]
    },
    {
     "data": {
      "application/vnd.jupyter.widget-view+json": {
       "model_id": "9f4ad58591084afdbe5bdfeb7a0a1251",
       "version_major": 2,
       "version_minor": 0
      },
      "text/plain": [
       "0it [00:00, ?it/s]"
      ]
     },
     "metadata": {},
     "output_type": "display_data"
    },
    {
     "name": "stderr",
     "output_type": "stream",
     "text": [
      "/ist/ist-share/scads/aires/CL-ReLKT/mrc_training/transformers/src/transformers/tokenization_utils_base.py:2339: UserWarning: `max_length` is ignored when `padding`=`True` and there is no truncation strategy. To pad to max length, use `padding='max_length'`.\n",
      "  warnings.warn(\n"
     ]
    },
    {
     "name": "stdout",
     "output_type": "stream",
     "text": [
      "  refs: [['Denver Broncos'], ['Carolina Panthers'], ['Santa Clara, California'], ['Denver Broncos'], ['gold'], ['\"golden anniversary\"'], ['February 7, 2016'], ['American Football Conference'], ['\"golden anniversary\"'], ['American Football Conference']]\n",
      "answer: ['Denver Broncos', 'Carolina Panthers', \"Levi's Stadium\", 'Carolina Panthers', 'gold', 'golden anniversary', 'February 7, 2016', 'American Football Conference', 'golden anniversary', 'American Football Conference']\n",
      "  refs: [['Denver Broncos'], ['Carolina Panthers'], ['Santa Clara, California'], ['Denver Broncos'], ['gold'], ['\"golden anniversary\"'], ['February 7, 2016'], ['American Football Conference'], ['\"golden anniversary\"'], ['American Football Conference']]\n",
      "answer: ['CBS', '$5 million', 'Coldplay', 'Beyoncé and Bruno Mars', 'Super Bowl XLVII', 'CBS', '$5 million', 'Beyoncé and Bruno Mars', 'Beyoncé and Bruno Mars', 'Beyoncé and Bruno Mars']\n",
      "{'exact_match': 63.01797540208136, 'f1': 78.0354734846366}\n",
      "\n",
      "\n",
      "\n",
      "MODEL_DIR: /ist/ist-share/scads/aires/CL-ReLKT/mrc_training/checkpoints/t5-base.seq2seq.squad_hparams.bz-64.grad_acc-2.lr-1e-4.epochs-10/checkpoint-1368\n"
     ]
    },
    {
     "data": {
      "application/vnd.jupyter.widget-view+json": {
       "model_id": "26868381ea1645279c772d258aa5c193",
       "version_major": 2,
       "version_minor": 0
      },
      "text/plain": [
       "0it [00:00, ?it/s]"
      ]
     },
     "metadata": {},
     "output_type": "display_data"
    },
    {
     "name": "stdout",
     "output_type": "stream",
     "text": [
      "  refs: [['Denver Broncos'], ['Carolina Panthers'], ['Santa Clara, California'], ['Denver Broncos'], ['gold'], ['\"golden anniversary\"'], ['February 7, 2016'], ['American Football Conference'], ['\"golden anniversary\"'], ['American Football Conference']]\n",
      "answer: ['Denver Broncos', 'Carolina Panthers', 'San Francisco Bay Area', 'Carolina Panthers', 'golden', 'golden anniversary', 'February 7, 2016', 'American Football Conference', 'golden anniversary', 'American Football Conference']\n",
      "  refs: [['Denver Broncos'], ['Carolina Panthers'], ['Santa Clara, California'], ['Denver Broncos'], ['gold'], ['\"golden anniversary\"'], ['February 7, 2016'], ['American Football Conference'], ['\"golden anniversary\"'], ['American Football Conference']]\n",
      "answer: ['CBS', '$5 million', 'Coldplay', 'Beyoncé and Bruno Mars', 'Super Bowl 50', 'CBS', '$5 million', 'Beyoncé', 'Beyoncé', 'Beyoncé and Bruno Mars']\n",
      "{'exact_match': 65.279091769158, 'f1': 79.88542789132555}\n",
      "\n",
      "\n",
      "\n",
      "MODEL_DIR: /ist/ist-share/scads/aires/CL-ReLKT/mrc_training/checkpoints/t5-base.seq2seq.squad_hparams.bz-64.grad_acc-2.lr-1e-4.epochs-10/checkpoint-2052\n"
     ]
    },
    {
     "data": {
      "application/vnd.jupyter.widget-view+json": {
       "model_id": "e7977a36a6fc45908b77b490a7dd8b66",
       "version_major": 2,
       "version_minor": 0
      },
      "text/plain": [
       "0it [00:00, ?it/s]"
      ]
     },
     "metadata": {},
     "output_type": "display_data"
    },
    {
     "name": "stdout",
     "output_type": "stream",
     "text": [
      "  refs: [['Denver Broncos'], ['Carolina Panthers'], ['Santa Clara, California'], ['Denver Broncos'], ['gold'], ['\"golden anniversary\"'], ['February 7, 2016'], ['American Football Conference'], ['\"golden anniversary\"'], ['American Football Conference']]\n",
      "answer: ['Denver Broncos', 'Carolina Panthers', \"Levi's Stadium\", 'Carolina Panthers', 'golden', 'golden anniversary', 'February 7, 2016', 'American Football Conference', 'golden anniversary', 'American Football Conference']\n",
      "  refs: [['Denver Broncos'], ['Carolina Panthers'], ['Santa Clara, California'], ['Denver Broncos'], ['gold'], ['\"golden anniversary\"'], ['February 7, 2016'], ['American Football Conference'], ['\"golden anniversary\"'], ['American Football Conference']]\n",
      "answer: ['CBS', '$5 million', 'Coldplay', 'Beyoncé and Bruno Mars', 'Super Bowl 50', 'CBS', '$5 million', 'Beyoncé', 'Beyoncé', 'Beyoncé']\n",
      "{'exact_match': 66.27246925260171, 'f1': 80.84468842653816}\n",
      "\n",
      "\n",
      "\n",
      "MODEL_DIR: /ist/ist-share/scads/aires/CL-ReLKT/mrc_training/checkpoints/t5-base.seq2seq.squad_hparams.bz-64.grad_acc-2.lr-1e-4.epochs-10/checkpoint-2736\n"
     ]
    },
    {
     "data": {
      "application/vnd.jupyter.widget-view+json": {
       "model_id": "3c03762c6b8a470197117e8e3dfd28ae",
       "version_major": 2,
       "version_minor": 0
      },
      "text/plain": [
       "0it [00:00, ?it/s]"
      ]
     },
     "metadata": {},
     "output_type": "display_data"
    },
    {
     "name": "stdout",
     "output_type": "stream",
     "text": [
      "  refs: [['Denver Broncos'], ['Carolina Panthers'], ['Santa Clara, California'], ['Denver Broncos'], ['gold'], ['\"golden anniversary\"'], ['February 7, 2016'], ['American Football Conference'], ['\"golden anniversary\"'], ['American Football Conference']]\n",
      "answer: ['Denver Broncos', 'Carolina Panthers', 'San Francisco Bay Area', 'Carolina Panthers', 'gold', 'golden anniversary', 'February 7, 2016', 'American Football Conference', 'golden anniversary', 'American Football Conference']\n",
      "  refs: [['Denver Broncos'], ['Carolina Panthers'], ['Santa Clara, California'], ['Denver Broncos'], ['gold'], ['\"golden anniversary\"'], ['February 7, 2016'], ['American Football Conference'], ['\"golden anniversary\"'], ['American Football Conference']]\n",
      "answer: ['CBS', '$5 million', 'Coldplay', 'Beyoncé and Bruno Mars', 'Super Bowl 50', 'CBS', '$5 million', 'Beyoncé', 'Beyoncé', 'Beyoncé']\n",
      "{'exact_match': 67.13339640491958, 'f1': 81.50835245888655}\n",
      "\n",
      "\n",
      "\n",
      "MODEL_DIR: /ist/ist-share/scads/aires/CL-ReLKT/mrc_training/checkpoints/t5-base.seq2seq.squad_hparams.bz-64.grad_acc-2.lr-1e-4.epochs-10/checkpoint-3420\n"
     ]
    },
    {
     "data": {
      "application/vnd.jupyter.widget-view+json": {
       "model_id": "b1bff99683b24cc79823faf6e55dd2db",
       "version_major": 2,
       "version_minor": 0
      },
      "text/plain": [
       "0it [00:00, ?it/s]"
      ]
     },
     "metadata": {},
     "output_type": "display_data"
    },
    {
     "name": "stdout",
     "output_type": "stream",
     "text": [
      "  refs: [['Denver Broncos'], ['Carolina Panthers'], ['Santa Clara, California'], ['Denver Broncos'], ['gold'], ['\"golden anniversary\"'], ['February 7, 2016'], ['American Football Conference'], ['\"golden anniversary\"'], ['American Football Conference']]\n",
      "answer: ['Denver Broncos', 'Carolina Panthers', \"Levi's Stadium\", 'Carolina Panthers', 'gold', 'golden anniversary', 'February 7, 2016', 'American Football Conference', 'golden anniversary', 'American Football Conference']\n",
      "  refs: [['Denver Broncos'], ['Carolina Panthers'], ['Santa Clara, California'], ['Denver Broncos'], ['gold'], ['\"golden anniversary\"'], ['February 7, 2016'], ['American Football Conference'], ['\"golden anniversary\"'], ['American Football Conference']]\n",
      "answer: ['CBS', '$5 million', 'Coldplay', 'Beyoncé and Bruno Mars', 'Super Bowl 50', 'CBS', '$5 million', 'Beyoncé', 'Beyoncé', 'Beyoncé']\n",
      "{'exact_match': 67.04824976348155, 'f1': 81.2873356740876}\n",
      "\n",
      "\n",
      "\n",
      "MODEL_DIR: /ist/ist-share/scads/aires/CL-ReLKT/mrc_training/checkpoints/t5-base.seq2seq.squad_hparams.bz-64.grad_acc-2.lr-1e-4.epochs-10/checkpoint-4104\n"
     ]
    },
    {
     "data": {
      "application/vnd.jupyter.widget-view+json": {
       "model_id": "19116919bd5f4abea53e9dc776bd5371",
       "version_major": 2,
       "version_minor": 0
      },
      "text/plain": [
       "0it [00:00, ?it/s]"
      ]
     },
     "metadata": {},
     "output_type": "display_data"
    },
    {
     "name": "stdout",
     "output_type": "stream",
     "text": [
      "  refs: [['Denver Broncos'], ['Carolina Panthers'], ['Santa Clara, California'], ['Denver Broncos'], ['gold'], ['\"golden anniversary\"'], ['February 7, 2016'], ['American Football Conference'], ['\"golden anniversary\"'], ['American Football Conference']]\n",
      "answer: ['Denver Broncos', 'Carolina Panthers', \"Levi's Stadium in the San Francisco Bay Area at Santa Clara,\", 'Denver Broncos', 'gold', 'golden anniversary', 'February 7, 2016', 'American Football Conference', 'golden anniversary', 'American Football Conference']\n",
      "  refs: [['Denver Broncos'], ['Carolina Panthers'], ['Santa Clara, California'], ['Denver Broncos'], ['gold'], ['\"golden anniversary\"'], ['February 7, 2016'], ['American Football Conference'], ['\"golden anniversary\"'], ['American Football Conference']]\n",
      "answer: ['CBS', '$5 million', 'Coldplay', 'Beyoncé and Bruno Mars', 'Super Bowl 50', 'CBS', '$5 million', 'Beyoncé', 'Beyoncé', 'Beyoncé']\n",
      "{'exact_match': 67.33207190160833, 'f1': 81.53106977741842}\n",
      "\n",
      "\n",
      "\n",
      "MODEL_DIR: /ist/ist-share/scads/aires/CL-ReLKT/mrc_training/checkpoints/t5-base.seq2seq.squad_hparams.bz-64.grad_acc-2.lr-1e-4.epochs-10/checkpoint-4788\n"
     ]
    },
    {
     "data": {
      "application/vnd.jupyter.widget-view+json": {
       "model_id": "da4fef947fdc4698a1fb78a3ec64fbb2",
       "version_major": 2,
       "version_minor": 0
      },
      "text/plain": [
       "0it [00:00, ?it/s]"
      ]
     },
     "metadata": {},
     "output_type": "display_data"
    },
    {
     "name": "stdout",
     "output_type": "stream",
     "text": [
      "  refs: [['Denver Broncos'], ['Carolina Panthers'], ['Santa Clara, California'], ['Denver Broncos'], ['gold'], ['\"golden anniversary\"'], ['February 7, 2016'], ['American Football Conference'], ['\"golden anniversary\"'], ['American Football Conference']]\n",
      "answer: ['Denver Broncos', 'Carolina Panthers', \"Levi's Stadium in the San Francisco Bay Area at Santa Clara,\", 'Denver Broncos', 'gold', 'golden anniversary', 'February 7, 2016', 'American Football Conference', 'golden anniversary', 'American Football Conference']\n",
      "  refs: [['Denver Broncos'], ['Carolina Panthers'], ['Santa Clara, California'], ['Denver Broncos'], ['gold'], ['\"golden anniversary\"'], ['February 7, 2016'], ['American Football Conference'], ['\"golden anniversary\"'], ['American Football Conference']]\n",
      "answer: ['CBS', '$5 million', 'Coldplay', 'Beyoncé and Bruno Mars', 'Super Bowl 50', 'CBS', '$5 million', 'Beyoncé', 'Beyoncé', 'Beyoncé']\n",
      "{'exact_match': 66.7833491012299, 'f1': 81.50182872109056}\n",
      "\n",
      "\n",
      "\n",
      "MODEL_DIR: /ist/ist-share/scads/aires/CL-ReLKT/mrc_training/checkpoints/t5-base.seq2seq.squad_hparams.bz-64.grad_acc-2.lr-1e-4.epochs-10/checkpoint-5472\n"
     ]
    },
    {
     "data": {
      "application/vnd.jupyter.widget-view+json": {
       "model_id": "d25df142d19e470486ca36bb4fd3b1f3",
       "version_major": 2,
       "version_minor": 0
      },
      "text/plain": [
       "0it [00:00, ?it/s]"
      ]
     },
     "metadata": {},
     "output_type": "display_data"
    },
    {
     "name": "stdout",
     "output_type": "stream",
     "text": [
      "  refs: [['Denver Broncos'], ['Carolina Panthers'], ['Santa Clara, California'], ['Denver Broncos'], ['gold'], ['\"golden anniversary\"'], ['February 7, 2016'], ['American Football Conference'], ['\"golden anniversary\"'], ['American Football Conference']]\n",
      "answer: ['Denver Broncos', 'Carolina Panthers', \"Levi's Stadium in the San Francisco Bay Area at Santa Clara,\", 'Carolina Panthers', 'gold', 'golden anniversary', 'February 7, 2016', 'American Football Conference', 'golden anniversary', 'American Football Conference']\n",
      "  refs: [['Denver Broncos'], ['Carolina Panthers'], ['Santa Clara, California'], ['Denver Broncos'], ['gold'], ['\"golden anniversary\"'], ['February 7, 2016'], ['American Football Conference'], ['\"golden anniversary\"'], ['American Football Conference']]\n",
      "answer: ['CBS', '$5 million', 'Coldplay', 'Beyoncé and Bruno Mars', 'Super Bowl XLVII', 'CBS', '$5 million', 'Beyoncé', 'Bruno Mars', 'Beyoncé']\n",
      "{'exact_match': 66.49006622516556, 'f1': 81.0863031085037}\n",
      "\n",
      "\n",
      "\n",
      "MODEL_DIR: /ist/ist-share/scads/aires/CL-ReLKT/mrc_training/checkpoints/t5-base.seq2seq.squad_hparams.bz-64.grad_acc-2.lr-1e-4.epochs-10/checkpoint-6156\n"
     ]
    },
    {
     "data": {
      "application/vnd.jupyter.widget-view+json": {
       "model_id": "979ae398fde34215a161ef0581d1702b",
       "version_major": 2,
       "version_minor": 0
      },
      "text/plain": [
       "0it [00:00, ?it/s]"
      ]
     },
     "metadata": {},
     "output_type": "display_data"
    },
    {
     "name": "stdout",
     "output_type": "stream",
     "text": [
      "  refs: [['Denver Broncos'], ['Carolina Panthers'], ['Santa Clara, California'], ['Denver Broncos'], ['gold'], ['\"golden anniversary\"'], ['February 7, 2016'], ['American Football Conference'], ['\"golden anniversary\"'], ['American Football Conference']]\n",
      "answer: ['Denver Broncos', 'Carolina Panthers', \"Levi's Stadium in the San Francisco Bay Area at Santa Clara,\", 'Denver Broncos', 'golden', 'golden anniversary', 'February 7, 2016', 'American Football Conference', 'golden anniversary', 'American Football Conference']\n",
      "  refs: [['Denver Broncos'], ['Carolina Panthers'], ['Santa Clara, California'], ['Denver Broncos'], ['gold'], ['\"golden anniversary\"'], ['February 7, 2016'], ['American Football Conference'], ['\"golden anniversary\"'], ['American Football Conference']]\n",
      "answer: ['CBS', '$5 million', 'Coldplay', 'Beyoncé and Bruno Mars', 'Super Bowl 50', 'CBS', '$5 million', 'Beyoncé', 'Beyoncé', 'Beyoncé']\n",
      "{'exact_match': 66.66035950804162, 'f1': 81.46607822238964}\n",
      "\n",
      "\n",
      "\n",
      "MODEL_DIR: /ist/ist-share/scads/aires/CL-ReLKT/mrc_training/checkpoints/t5-base.seq2seq.squad_hparams.bz-64.grad_acc-2.lr-1e-4.epochs-10/checkpoint-6840\n"
     ]
    },
    {
     "data": {
      "application/vnd.jupyter.widget-view+json": {
       "model_id": "cfc85c1fdd944f3e9c3a24e6706b2b7a",
       "version_major": 2,
       "version_minor": 0
      },
      "text/plain": [
       "0it [00:00, ?it/s]"
      ]
     },
     "metadata": {},
     "output_type": "display_data"
    },
    {
     "name": "stdout",
     "output_type": "stream",
     "text": [
      "  refs: [['Denver Broncos'], ['Carolina Panthers'], ['Santa Clara, California'], ['Denver Broncos'], ['gold'], ['\"golden anniversary\"'], ['February 7, 2016'], ['American Football Conference'], ['\"golden anniversary\"'], ['American Football Conference']]\n",
      "answer: ['Denver Broncos', 'Carolina Panthers', \"Levi's Stadium in the San Francisco Bay Area at Santa Clara,\", 'Denver Broncos', 'golden', 'golden anniversary', 'February 7, 2016', 'American Football Conference', 'golden anniversary', 'American Football Conference']\n",
      "  refs: [['Denver Broncos'], ['Carolina Panthers'], ['Santa Clara, California'], ['Denver Broncos'], ['gold'], ['\"golden anniversary\"'], ['February 7, 2016'], ['American Football Conference'], ['\"golden anniversary\"'], ['American Football Conference']]\n",
      "answer: ['CBS', '$5 million', 'Coldplay', 'Beyoncé and Bruno Mars', 'Super Bowl 50', 'CBS', '$5 million', 'Beyoncé', 'Bruno Mars', 'Beyoncé']\n",
      "{'exact_match': 66.38599810785242, 'f1': 81.36083853364462}\n",
      "\n",
      "\n",
      "\n"
     ]
    }
   ],
   "source": [
    "xquad_en_scores = []\n",
    "for MODEL_DIR in XQUAD_FINETUNED_MODEL_DIRS:\n",
    "# MODEL_DIR = '/ist/ist-share/scads/aires/'\n",
    "    print(f'MODEL_DIR: {MODEL_DIR}')\n",
    "    model_ckp = MODEL_DIR.split('-')[-1]\n",
    "\n",
    "    model = MT5ForConditionalGeneration.from_pretrained(MODEL_DIR).to(device)\n",
    "\n",
    "    data_collator = DataCollatorWithPadding(tokenizer=tokenizer,\n",
    "                                            padding=True,\n",
    "                                            max_length=384,\n",
    "                                            pad_to_multiple_of=8,\n",
    "                                            return_tensors='pt')\n",
    "    data_loader = torch.utils.data.DataLoader(squad_dev_features,\n",
    "                                              batch_size=80,\n",
    "                                              collate_fn=data_collator)\n",
    "\n",
    "    predictions = []\n",
    "    answers = []\n",
    "    c = 0\n",
    "    for i, batch in tqdm(enumerate(data_loader)):\n",
    "        batch_size = len(batch['input_ids'])\n",
    "        # print('batch size', len(batch['input_ids']))\n",
    "        outs = model.generate(input_ids=batch['input_ids'].to(device), \n",
    "                            attention_mask=batch['attention_mask'].to(device),\n",
    "                            max_length=16,\n",
    "                            early_stopping=True,\n",
    "                            num_beams=1)\n",
    "      \n",
    "        answer = [tokenizer.decode(ids, skip_special_tokens=True) for ids in outs]\n",
    "        if c < 1:\n",
    "            print(f'  refs: {references[:10]}')\n",
    "            print(f'answer: {answer[:10]}')\n",
    "            c+=1\n",
    "        answers.extend(answer)\n",
    "        # print(f'answers: {answers}')\n",
    "        # break\n",
    "    # break\n",
    "    predictions = answers\n",
    "\n",
    "    eval_results = evaluate(references, predictions)\n",
    "    print(eval_results)\n",
    "    print('\\n\\n')\n",
    "    xquad_en_scores.append({\n",
    "        'model_ckp': model_ckp,\n",
    "        'model_dir': MODEL_DIR,\n",
    "        **eval_results,\n",
    "    })\n"
   ]
  },
  {
   "cell_type": "code",
   "execution_count": null,
   "id": "5a3dbd6e-6780-400a-8e02-8d0c17182e5d",
   "metadata": {},
   "outputs": [],
   "source": [
    "# answers\n",
    "evaluate(references[:len(answers)], predictions=answers)"
   ]
  },
  {
   "cell_type": "code",
   "execution_count": null,
   "id": "608af248",
   "metadata": {},
   "outputs": [],
   "source": [
    "references[0:5]"
   ]
  },
  {
   "cell_type": "code",
   "execution_count": null,
   "id": "e08dc895-1272-4ded-b3ae-67fe6aeb747f",
   "metadata": {},
   "outputs": [],
   "source": [
    "len(predictions)"
   ]
  },
  {
   "cell_type": "code",
   "execution_count": null,
   "id": "fdc16996-6d1b-4dd8-af3f-f1cd5a6c43b6",
   "metadata": {},
   "outputs": [],
   "source": [
    "# predictions[:10]"
   ]
  },
  {
   "cell_type": "code",
   "execution_count": null,
   "id": "a08e7dfd-ddcb-45f9-b5e7-f8cc214a7038",
   "metadata": {},
   "outputs": [],
   "source": [
    "# references[:10]"
   ]
  },
  {
   "cell_type": "code",
   "execution_count": null,
   "id": "1e5ae7d9",
   "metadata": {},
   "outputs": [],
   "source": [
    "# evaluate(references, predictions)"
   ]
  },
  {
   "cell_type": "code",
   "execution_count": null,
   "id": "e679106b-2296-46a4-bced-30d532c881aa",
   "metadata": {},
   "outputs": [],
   "source": [
    "print('\\tPrediction \\t|\\t Groundtruth')\n",
    "list(zip(predictions[:10], references[:10]))"
   ]
  },
  {
   "cell_type": "code",
   "execution_count": null,
   "id": "35252b74-9edc-4de2-834c-eb83c1b7d5c6",
   "metadata": {},
   "outputs": [],
   "source": []
  }
 ],
 "metadata": {
  "kernelspec": {
   "display_name": "Python 3 (ipykernel)",
   "language": "python",
   "name": "python3"
  },
  "language_info": {
   "codemirror_mode": {
    "name": "ipython",
    "version": 3
   },
   "file_extension": ".py",
   "mimetype": "text/x-python",
   "name": "python",
   "nbconvert_exporter": "python",
   "pygments_lexer": "ipython3",
   "version": "3.9.12"
  }
 },
 "nbformat": 4,
 "nbformat_minor": 5
}
