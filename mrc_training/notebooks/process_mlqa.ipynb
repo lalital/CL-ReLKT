{
 "cells": [
  {
   "cell_type": "markdown",
   "metadata": {},
   "source": [
    "# Process xquad dataset for Seq2Seq QA training"
   ]
  },
  {
   "cell_type": "code",
   "execution_count": 1,
   "metadata": {
    "execution": {
     "iopub.execute_input": "2022-08-03T08:21:12.584709Z",
     "iopub.status.busy": "2022-08-03T08:21:12.584297Z",
     "iopub.status.idle": "2022-08-03T08:21:14.200390Z",
     "shell.execute_reply": "2022-08-03T08:21:14.199568Z",
     "shell.execute_reply.started": "2022-08-03T08:21:12.584610Z"
    },
    "tags": []
   },
   "outputs": [],
   "source": [
    "import os, sys\n",
    "import json\n",
    "import glob\n",
    "import hashlib\n",
    "from collections import defaultdict, Counter\n",
    "import pandas as pd\n",
    "import numpy as np\n",
    "from sklearn.model_selection import StratifiedShuffleSplit, GroupShuffleSplit"
   ]
  },
  {
   "cell_type": "code",
   "execution_count": 2,
   "metadata": {
    "execution": {
     "iopub.execute_input": "2022-08-03T08:21:14.203017Z",
     "iopub.status.busy": "2022-08-03T08:21:14.202575Z",
     "iopub.status.idle": "2022-08-03T08:21:14.218630Z",
     "shell.execute_reply": "2022-08-03T08:21:14.217755Z",
     "shell.execute_reply.started": "2022-08-03T08:21:14.202970Z"
    }
   },
   "outputs": [
    {
     "data": {
      "text/plain": [
       "24"
      ]
     },
     "execution_count": 2,
     "metadata": {},
     "output_type": "execute_result"
    }
   ],
   "source": [
    "len('5733be284776f41900661182')"
   ]
  },
  {
   "cell_type": "code",
   "execution_count": 3,
   "metadata": {
    "execution": {
     "iopub.execute_input": "2022-08-03T08:21:14.220604Z",
     "iopub.status.busy": "2022-08-03T08:21:14.220094Z",
     "iopub.status.idle": "2022-08-03T08:21:14.227142Z",
     "shell.execute_reply": "2022-08-03T08:21:14.226114Z",
     "shell.execute_reply.started": "2022-08-03T08:21:14.220566Z"
    },
    "tags": []
   },
   "outputs": [],
   "source": [
    "def get_hash(text):\n",
    "    import hashlib\n",
    "    return hashlib.sha256(text.encode()).hexdigest()[:24]\n",
    "get_hash('a')\n",
    "\n",
    "def get_qa_hash(question, context):\n",
    "    return get_hash('question:' + question + ' ' + 'context:' + context)"
   ]
  },
  {
   "cell_type": "code",
   "execution_count": null,
   "metadata": {},
   "outputs": [],
   "source": []
  },
  {
   "cell_type": "code",
   "execution_count": 4,
   "metadata": {
    "execution": {
     "iopub.execute_input": "2022-08-03T08:21:14.231633Z",
     "iopub.status.busy": "2022-08-03T08:21:14.231173Z",
     "iopub.status.idle": "2022-08-03T08:21:22.810526Z",
     "shell.execute_reply": "2022-08-03T08:21:22.809826Z",
     "shell.execute_reply.started": "2022-08-03T08:21:14.231585Z"
    }
   },
   "outputs": [],
   "source": [
    "sys.path.append('../../exploratory/online_prompt/notebooks/')\n",
    "from exploring_sentence_level import (\n",
    "    load_model,\n",
    "    mine_prompt_gt,  \n",
    "    segment_sentence,\n",
    "    run_online_prompt_mining\n",
    ")"
   ]
  },
  {
   "cell_type": "code",
   "execution_count": 5,
   "metadata": {
    "execution": {
     "iopub.execute_input": "2022-08-03T08:21:22.811894Z",
     "iopub.status.busy": "2022-08-03T08:21:22.811517Z",
     "iopub.status.idle": "2022-08-03T08:21:23.816528Z",
     "shell.execute_reply": "2022-08-03T08:21:23.815482Z",
     "shell.execute_reply.started": "2022-08-03T08:21:22.811863Z"
    },
    "tags": []
   },
   "outputs": [],
   "source": [
    "MLQA_BASE_DIR = '../data/mlqa/MLQA_V1/'\n",
    "\n",
    "mlqa_xx = {}\n",
    "MLQA_LANGS = ['en', 'ar', 'de', 'es', 'hi', 'vi', 'zh']\n",
    "for lang in MLQA_LANGS:\n",
    "    mlqa_xx[f'{lang}_val'] = json.load(open(os.path.join(MLQA_BASE_DIR, 'dev', f'dev-context-en-question-{lang}.json'), 'r'))['data'],\n",
    "    mlqa_xx[f'{lang}_test'] = json.load(open(os.path.join(MLQA_BASE_DIR, 'test', f'test-context-en-question-{lang}.json'), 'r'))['data'],\n"
   ]
  },
  {
   "cell_type": "code",
   "execution_count": 6,
   "metadata": {
    "execution": {
     "iopub.execute_input": "2022-08-03T08:21:23.817989Z",
     "iopub.status.busy": "2022-08-03T08:21:23.817538Z",
     "iopub.status.idle": "2022-08-03T08:21:23.824203Z",
     "shell.execute_reply": "2022-08-03T08:21:23.822700Z",
     "shell.execute_reply.started": "2022-08-03T08:21:23.817960Z"
    },
    "tags": []
   },
   "outputs": [
    {
     "data": {
      "text/plain": [
       "2389"
      ]
     },
     "execution_count": 6,
     "metadata": {},
     "output_type": "execute_result"
    }
   ],
   "source": [
    "len(mlqa_xx['ar_test'][0])"
   ]
  },
  {
   "cell_type": "code",
   "execution_count": 7,
   "metadata": {
    "execution": {
     "iopub.execute_input": "2022-08-03T08:21:23.826239Z",
     "iopub.status.busy": "2022-08-03T08:21:23.825932Z",
     "iopub.status.idle": "2022-08-03T08:21:23.831715Z",
     "shell.execute_reply": "2022-08-03T08:21:23.830875Z",
     "shell.execute_reply.started": "2022-08-03T08:21:23.826209Z"
    },
    "tags": []
   },
   "outputs": [],
   "source": [
    "def get_squad_answer_str(context, qas):\n",
    "    context_qa_pairs = []\n",
    "    for qa in qas:\n",
    "        question = qa['question']\n",
    "        answer = qa['answers'][0]['text']\n",
    "        answer_start = qa['answers'][0]['answer_start']\n",
    "        answers = qa['answers']\n",
    "        context_qa_pairs.append((context, question, answer, answer_start, answers))\n",
    "    return context_qa_pairs"
   ]
  },
  {
   "cell_type": "code",
   "execution_count": 8,
   "metadata": {
    "execution": {
     "iopub.execute_input": "2022-08-03T08:21:23.833319Z",
     "iopub.status.busy": "2022-08-03T08:21:23.832985Z",
     "iopub.status.idle": "2022-08-03T08:22:00.095659Z",
     "shell.execute_reply": "2022-08-03T08:22:00.094812Z",
     "shell.execute_reply.started": "2022-08-03T08:21:23.833289Z"
    },
    "tags": []
   },
   "outputs": [],
   "source": [
    "mlqa_xx_dataset = defaultdict(lambda: {'val':[], 'test': []})\n",
    "\n",
    "doc_title_counter = defaultdict(lambda: list())\n",
    "paragraph_in_doc_counter = defaultdict(lambda: Counter())\n",
    "\n",
    "for lang in MLQA_LANGS:\n",
    "\n",
    "    for split_name in ['val', 'test']:\n",
    "        for i, item in enumerate(mlqa_xx[f'{lang}_{split_name}'][0]):\n",
    "            document_title = item['title']\n",
    "            paragraphs = item['paragraphs']\n",
    "            doc_title_counter[lang].append(document_title)\n",
    "            for j, paragraph in enumerate(paragraphs):\n",
    "\n",
    "                context = paragraph['context']\n",
    "                context_qa_pairs = get_squad_answer_str(context=context, qas=paragraph['qas'])\n",
    "\n",
    "                for context_qa_pair in context_qa_pairs:\n",
    "                    context, question, answer, answer_start, answers = context_qa_pair\n",
    "                    _context_qa_pair = (context, question, answer, answer_start)\n",
    "                    gt_sentence = mine_prompt_gt(_context_qa_pair)\n",
    "                    paragraph_in_doc_counter[lang][document_title] += 1\n",
    "                    qa_item = {\n",
    "                         'question': question,\n",
    "                            'context': context,\n",
    "                            'document_title': document_title,\n",
    "                            'segmented_context': segment_sentence(context),\n",
    "                            'answer': answer,\n",
    "                            'answer_start': answer_start,\n",
    "                            'answers': answers,\n",
    "                            'gt_sentence': gt_sentence,\n",
    "                    }\n",
    "                    mlqa_xx_dataset[lang][split_name].append(qa_item)\n"
   ]
  },
  {
   "cell_type": "code",
   "execution_count": 9,
   "metadata": {
    "execution": {
     "iopub.execute_input": "2022-08-03T08:22:00.096989Z",
     "iopub.status.busy": "2022-08-03T08:22:00.096635Z",
     "iopub.status.idle": "2022-08-03T08:22:00.104979Z",
     "shell.execute_reply": "2022-08-03T08:22:00.104306Z",
     "shell.execute_reply.started": "2022-08-03T08:22:00.096957Z"
    },
    "tags": []
   },
   "outputs": [
    {
     "name": "stdout",
     "output_type": "stream",
     "text": [
      "lang: en, n_docs = 5530\n",
      "lang: ar, n_docs = 2627\n",
      "lang: de, n_docs = 2806\n",
      "lang: es, n_docs = 2762\n",
      "lang: hi, n_docs = 2255\n",
      "lang: vi, n_docs = 2682\n",
      "lang: zh, n_docs = 2673\n",
      "\n",
      "Total unique doc 5,530\n"
     ]
    }
   ],
   "source": [
    "merged_doc_titles = set()\n",
    "for lang in MLQA_LANGS:\n",
    "    doc_titles = doc_title_counter[lang]\n",
    "    print(f'lang: {lang}, n_docs = {len(doc_titles)}')\n",
    "    merged_doc_titles.update(doc_titles)\n",
    "print(f'\\nTotal unique doc {len(merged_doc_titles):,}')"
   ]
  },
  {
   "cell_type": "code",
   "execution_count": 10,
   "metadata": {
    "execution": {
     "iopub.execute_input": "2022-08-03T08:22:00.109850Z",
     "iopub.status.busy": "2022-08-03T08:22:00.109242Z",
     "iopub.status.idle": "2022-08-03T08:22:00.115934Z",
     "shell.execute_reply": "2022-08-03T08:22:00.114765Z",
     "shell.execute_reply.started": "2022-08-03T08:22:00.109796Z"
    },
    "tags": []
   },
   "outputs": [
    {
     "name": "stdout",
     "output_type": "stream",
     "text": [
      "lang: en, n_docs = 12738\n",
      "lang: ar, n_docs = 5852\n",
      "lang: de, n_docs = 5029\n",
      "lang: es, n_docs = 5753\n",
      "lang: hi, n_docs = 5425\n",
      "lang: vi, n_docs = 6006\n",
      "lang: zh, n_docs = 5641\n"
     ]
    }
   ],
   "source": [
    "for lang in MLQA_LANGS:\n",
    "    n_paragraphs = sum(paragraph_in_doc_counter[lang].values())\n",
    "    print(f'lang: {lang}, n_docs = {n_paragraphs}')\n",
    "    \n",
    "    "
   ]
  },
  {
   "cell_type": "code",
   "execution_count": 11,
   "metadata": {
    "execution": {
     "iopub.execute_input": "2022-08-03T08:22:00.117805Z",
     "iopub.status.busy": "2022-08-03T08:22:00.117093Z",
     "iopub.status.idle": "2022-08-03T08:22:00.125826Z",
     "shell.execute_reply": "2022-08-03T08:22:00.123753Z",
     "shell.execute_reply.started": "2022-08-03T08:22:00.117717Z"
    },
    "tags": []
   },
   "outputs": [
    {
     "name": "stdout",
     "output_type": "stream",
     "text": [
      "lang= en, split_name=val\n",
      "n_questions: 1148\n",
      "lang= en, split_name=test\n",
      "n_questions: 11590\n",
      "lang= ar, split_name=val\n",
      "n_questions: 517\n",
      "lang= ar, split_name=test\n",
      "n_questions: 5335\n",
      "lang= de, split_name=val\n",
      "n_questions: 512\n",
      "lang= de, split_name=test\n",
      "n_questions: 4517\n",
      "lang= es, split_name=val\n",
      "n_questions: 500\n",
      "lang= es, split_name=test\n",
      "n_questions: 5253\n",
      "lang= hi, split_name=val\n",
      "n_questions: 507\n",
      "lang= hi, split_name=test\n",
      "n_questions: 4918\n",
      "lang= vi, split_name=val\n",
      "n_questions: 511\n",
      "lang= vi, split_name=test\n",
      "n_questions: 5495\n",
      "lang= zh, split_name=val\n",
      "n_questions: 504\n",
      "lang= zh, split_name=test\n",
      "n_questions: 5137\n"
     ]
    }
   ],
   "source": [
    "for lang in MLQA_LANGS:\n",
    "\n",
    "    for split_name in ['val', 'test']:\n",
    "\n",
    "        n_questions = len(mlqa_xx_dataset[lang][split_name])\n",
    "        print(f'lang= {lang}, split_name={split_name}')\n",
    "        print(f'n_questions: {n_questions}')"
   ]
  },
  {
   "cell_type": "markdown",
   "metadata": {},
   "source": [
    "### Data splitting strategy\n",
    "\n"
   ]
  },
  {
   "cell_type": "markdown",
   "metadata": {},
   "source": [
    "Test set => training set and validation set\n",
    "\n",
    "Val set = test set\n",
    "\n",
    "------\n",
    "\n",
    "A Disjoint set of documents for training, validation\n",
    "\n",
    "\n",
    "\n"
   ]
  },
  {
   "cell_type": "code",
   "execution_count": 12,
   "metadata": {
    "execution": {
     "iopub.execute_input": "2022-08-03T08:22:00.129028Z",
     "iopub.status.busy": "2022-08-03T08:22:00.128353Z",
     "iopub.status.idle": "2022-08-03T08:22:00.164806Z",
     "shell.execute_reply": "2022-08-03T08:22:00.163997Z",
     "shell.execute_reply.started": "2022-08-03T08:22:00.128980Z"
    },
    "tags": []
   },
   "outputs": [
    {
     "name": "stdout",
     "output_type": "stream",
     "text": [
      "lang: en, 11,590\n",
      "lang: ar, 5,335\n",
      "lang: de, 4,517\n",
      "lang: es, 5,253\n",
      "lang: hi, 4,918\n",
      "lang: vi, 5,495\n",
      "lang: zh, 5,137\n",
      "\n",
      "Total number of QA example in train/val set: 42,245\n"
     ]
    },
    {
     "data": {
      "text/plain": [
       "42245"
      ]
     },
     "execution_count": 12,
     "metadata": {},
     "output_type": "execute_result"
    }
   ],
   "source": [
    "mlqa_train_val_set = []\n",
    "mlqa_train_val_groups = []\n",
    "for lang in MLQA_LANGS:\n",
    "\n",
    "    for split_name in ['test']:\n",
    "        qas = mlqa_xx_dataset[lang][split_name]\n",
    "        mlqa_train_val_set.extend(qas)\n",
    "        mlqa_train_val_groups.extend(list(map(lambda x: x['document_title'], qas)))\n",
    "        print(f'lang: {lang}, {len(qas):,}')\n",
    "print(f'\\nTotal number of QA example in train/val set: {len(mlqa_train_val_set):,}')\n",
    "len(mlqa_train_val_groups)"
   ]
  },
  {
   "cell_type": "code",
   "execution_count": 13,
   "metadata": {
    "execution": {
     "iopub.execute_input": "2022-08-03T08:22:00.168143Z",
     "iopub.status.busy": "2022-08-03T08:22:00.165914Z",
     "iopub.status.idle": "2022-08-03T08:22:00.196166Z",
     "shell.execute_reply": "2022-08-03T08:22:00.195326Z",
     "shell.execute_reply.started": "2022-08-03T08:22:00.168072Z"
    },
    "tags": []
   },
   "outputs": [
    {
     "name": "stdout",
     "output_type": "stream",
     "text": [
      "lang: en, 1,148\n",
      "lang: ar, 517\n",
      "lang: de, 512\n",
      "lang: es, 500\n",
      "lang: hi, 507\n",
      "lang: vi, 511\n",
      "lang: zh, 504\n",
      "\n",
      "Total number of QA example in test set: 4,199\n"
     ]
    },
    {
     "data": {
      "text/plain": [
       "4199"
      ]
     },
     "execution_count": 13,
     "metadata": {},
     "output_type": "execute_result"
    }
   ],
   "source": [
    "mlqa_test_set = []\n",
    "mlqa_test_groups = []\n",
    "for lang in MLQA_LANGS:\n",
    "\n",
    "    for split_name in ['val']:\n",
    "        qas = mlqa_xx_dataset[lang][split_name]\n",
    "        mlqa_test_set.extend(qas)\n",
    "        mlqa_test_groups.extend(list(map(lambda x: x['document_title'], qas)))\n",
    "        print(f'lang: {lang}, {len(qas):,}')\n",
    "print(f'\\nTotal number of QA example in test set: {len(mlqa_test_set):,}')\n",
    "len(mlqa_test_groups)"
   ]
  },
  {
   "cell_type": "code",
   "execution_count": 14,
   "metadata": {
    "execution": {
     "iopub.execute_input": "2022-08-03T08:22:00.198335Z",
     "iopub.status.busy": "2022-08-03T08:22:00.197681Z",
     "iopub.status.idle": "2022-08-03T08:22:00.216389Z",
     "shell.execute_reply": "2022-08-03T08:22:00.215496Z",
     "shell.execute_reply.started": "2022-08-03T08:22:00.198286Z"
    },
    "tags": []
   },
   "outputs": [
    {
     "data": {
      "text/plain": [
       "(set(), 5530, 7)"
      ]
     },
     "execution_count": 14,
     "metadata": {},
     "output_type": "execute_result"
    }
   ],
   "source": [
    "set(mlqa_train_val_groups).intersection(set(mlqa_test_groups)), \\\n",
    "len(list((set(mlqa_train_val_groups).union(set(mlqa_test_groups))))), \\\n",
    "len(doc_title_counter)"
   ]
  },
  {
   "cell_type": "code",
   "execution_count": 15,
   "metadata": {
    "execution": {
     "iopub.execute_input": "2022-08-03T08:22:00.217987Z",
     "iopub.status.busy": "2022-08-03T08:22:00.217594Z",
     "iopub.status.idle": "2022-08-03T08:22:00.225227Z",
     "shell.execute_reply": "2022-08-03T08:22:00.223354Z",
     "shell.execute_reply.started": "2022-08-03T08:22:00.217953Z"
    },
    "tags": []
   },
   "outputs": [
    {
     "data": {
      "text/plain": [
       "{'question': '2009年未判决案件有多少个？',\n",
       " 'context': 'In 1999, 8,400 applications were allocated to be heard. In 2003, 27,200 cases were filed and the number of pending applications rose to approximately 65,000. In 2005, the Court opened 45,500 case files. In 2009, 57,200 applications were allocated, with the number of pending applications rose to 119,300. At the time, more than 90% of them were declared to be inadmissible, and the majority of cases decided—around 60% of the decisions by the Court—related to what is termed repetitive cases: where the Court has already delivered judgment finding a violation of the European Convention on Human Rights or where well established case law exists on a similar case.',\n",
       " 'document_title': 'European Court of Human Rights',\n",
       " 'segmented_context': ['In 1999, 8,400 applications were allocated to be heard.',\n",
       "  'In 2003, 27,200 cases were filed and the number of pending applications rose to approximately 65,000.',\n",
       "  'In 2005, the Court opened 45,500 case files.',\n",
       "  'In 2009, 57,200 applications were allocated, with the number of pending applications rose to 119,300.',\n",
       "  'At the time, more than 90% of them were declared to be inadmissible, and the majority of cases decided—around 60% of the decisions by the Court—related to what is termed repetitive cases: where the Court has already delivered judgment finding a violation of the European Convention on Human Rights or where well established case law exists on a similar case.'],\n",
       " 'answer': '119,300',\n",
       " 'answer_start': 296,\n",
       " 'answers': [{'text': '119,300', 'answer_start': 296}],\n",
       " 'gt_sentence': 'In 2009, 57,200 applications were allocated, with the number of pending applications rose to 119,300.'}"
      ]
     },
     "execution_count": 15,
     "metadata": {},
     "output_type": "execute_result"
    }
   ],
   "source": [
    "mlqa_train_val_set[-1]"
   ]
  },
  {
   "cell_type": "code",
   "execution_count": 16,
   "metadata": {
    "execution": {
     "iopub.execute_input": "2022-08-03T08:22:00.229148Z",
     "iopub.status.busy": "2022-08-03T08:22:00.228717Z",
     "iopub.status.idle": "2022-08-03T08:22:00.237592Z",
     "shell.execute_reply": "2022-08-03T08:22:00.235954Z",
     "shell.execute_reply.started": "2022-08-03T08:22:00.229101Z"
    },
    "tags": []
   },
   "outputs": [
    {
     "data": {
      "text/plain": [
       "(42245,\n",
       " ['Area 51',\n",
       "  'Area 51',\n",
       "  'Area 51',\n",
       "  'Area 51',\n",
       "  'Area 51',\n",
       "  'Area 51',\n",
       "  'Area 51',\n",
       "  'Area 51',\n",
       "  'Area 51',\n",
       "  'Area 51',\n",
       "  'Area 51',\n",
       "  'Area 51',\n",
       "  'Area 51',\n",
       "  'Area 51',\n",
       "  'Quality of service',\n",
       "  'Quality of service',\n",
       "  'Quality of service',\n",
       "  'Quality of service',\n",
       "  'Quality of service',\n",
       "  'Quality of service',\n",
       "  'Quality of service',\n",
       "  'Quality of service',\n",
       "  'Quality of service',\n",
       "  'Quality of service',\n",
       "  'Quality of service',\n",
       "  'Cell culture',\n",
       "  'Cell culture',\n",
       "  'Cell culture',\n",
       "  'Cell culture',\n",
       "  'Mughal architecture',\n",
       "  'TRIPS Agreement',\n",
       "  'TRIPS Agreement',\n",
       "  'TRIPS Agreement',\n",
       "  'TRIPS Agreement',\n",
       "  'Triple H',\n",
       "  'Triple H',\n",
       "  'Triple H',\n",
       "  'Triple H',\n",
       "  'Anne Boleyn',\n",
       "  'Anne Boleyn'])"
      ]
     },
     "execution_count": 16,
     "metadata": {},
     "output_type": "execute_result"
    }
   ],
   "source": [
    "len(mlqa_train_val_groups), mlqa_train_val_groups[:40]"
   ]
  },
  {
   "cell_type": "code",
   "execution_count": null,
   "metadata": {
    "tags": []
   },
   "outputs": [],
   "source": []
  },
  {
   "cell_type": "code",
   "execution_count": null,
   "metadata": {
    "tags": []
   },
   "outputs": [],
   "source": []
  },
  {
   "cell_type": "code",
   "execution_count": null,
   "metadata": {},
   "outputs": [],
   "source": []
  },
  {
   "cell_type": "code",
   "execution_count": 17,
   "metadata": {
    "execution": {
     "iopub.execute_input": "2022-08-03T08:22:00.240447Z",
     "iopub.status.busy": "2022-08-03T08:22:00.239758Z",
     "iopub.status.idle": "2022-08-03T08:22:00.244014Z",
     "shell.execute_reply": "2022-08-03T08:22:00.242867Z",
     "shell.execute_reply.started": "2022-08-03T08:22:00.240411Z"
    },
    "tags": []
   },
   "outputs": [],
   "source": [
    "SEED = 93"
   ]
  },
  {
   "cell_type": "code",
   "execution_count": 18,
   "metadata": {
    "execution": {
     "iopub.execute_input": "2022-08-03T08:22:00.246173Z",
     "iopub.status.busy": "2022-08-03T08:22:00.245698Z",
     "iopub.status.idle": "2022-08-03T08:22:00.412153Z",
     "shell.execute_reply": "2022-08-03T08:22:00.411422Z",
     "shell.execute_reply.started": "2022-08-03T08:22:00.246118Z"
    },
    "tags": []
   },
   "outputs": [
    {
     "name": "stderr",
     "output_type": "stream",
     "text": [
      "100%|████████████████████████████████████████████████████████████| 1/1 [00:00<00:00,  7.12it/s]"
     ]
    },
    {
     "name": "stdout",
     "output_type": "stream",
     "text": [
      "\n",
      "random_seed: 93\n",
      "N_doc_train : 4,509 (90.0000)\n",
      "N_doc_validation : 501 (10.0000)\n",
      "\n",
      "N_paragraphs_train : 38,021 (90.0012)\n",
      "N_paragraphs_validation : 4,224 (9.9988)\n",
      "\n",
      "total_paragraphs: 42,245\n",
      "total_docs: 5,010\n"
     ]
    },
    {
     "name": "stderr",
     "output_type": "stream",
     "text": [
      "\n"
     ]
    }
   ],
   "source": [
    "\n",
    "from math import isclose\n",
    "from tqdm import tqdm\n",
    "c =0\n",
    "for random_seed in tqdm([SEED]):\n",
    "    X = mlqa_train_val_set\n",
    "    groups = mlqa_train_val_groups\n",
    "    gss = GroupShuffleSplit(n_splits=1, train_size=0.90, random_state=random_seed)\n",
    "    gss.get_n_splits(X)\n",
    "\n",
    "    mlqa_group_split = {}\n",
    "    for train_index, test_index in gss.split(X, groups=groups):\n",
    "#         print(\"TRAIN:\", len(train_index), \"TEST:\", len(test_index))\n",
    "\n",
    "#         print(train_index[0:20], train_index[-20:], )\n",
    "\n",
    "        mlqa_group_split['train'], mlqa_group_split['validation'] = [ X[idx] for idx in train_index ], [ X[idx] for idx in test_index ]\n",
    "\n",
    "\n",
    "    per_split_doc_title_counter = defaultdict(lambda: set())\n",
    "    per_split_paragraph_in_doc_counter = defaultdict(lambda: Counter())\n",
    "\n",
    "\n",
    "    for split_name in ['train', 'validation']:\n",
    "\n",
    "        for qa in mlqa_group_split[split_name]:\n",
    "            document_title = qa['document_title']\n",
    "            per_split_doc_title_counter[split_name].add(document_title)\n",
    "            per_split_paragraph_in_doc_counter[split_name][document_title] += 1\n",
    "\n",
    "    N_doc_train = len(per_split_doc_title_counter['train'])\n",
    "    N_doc_validation = len(per_split_doc_title_counter['validation'])\n",
    "\n",
    "    N_paragraphs_train = sum(per_split_paragraph_in_doc_counter['train'].values())\n",
    "    N_paragraphs_validation = sum(per_split_paragraph_in_doc_counter['validation'].values())\n",
    "\n",
    "    total_docs, total_paragraphs = N_doc_train + N_doc_validation, N_paragraphs_train + N_paragraphs_validation\n",
    "\n",
    "\n",
    "    \n",
    "    n_paragraph_train_ratio = (N_paragraphs_train/total_paragraphs)*100\n",
    "    n_paragraph_train_validation = (N_paragraphs_validation/total_paragraphs)*100\n",
    "       \n",
    "\n",
    "    if isclose(n_paragraph_train_ratio, 90.0 , abs_tol=0.0015) and n_paragraph_train_ratio >=90.0 and c <=10:\n",
    "\n",
    "        print(f'\\nrandom_seed: {random_seed}')\n",
    "\n",
    "        print(f'N_doc_train : {N_doc_train:,} ({(N_doc_train/total_docs)*100:.4f})')\n",
    "        print(f'N_doc_validation : {N_doc_validation:,} ({(N_doc_validation/total_docs)*100:.4f})')\n",
    "        print(f'\\nN_paragraphs_train : {N_paragraphs_train:,} ({n_paragraph_train_ratio:.4f})')\n",
    "        print(f'N_paragraphs_validation : {N_paragraphs_validation:,} ({n_paragraph_train_validation:.4f})')\n",
    "\n",
    "        print(f'\\ntotal_paragraphs: {total_paragraphs:,}')\n",
    "        print(f'total_docs: {total_docs:,}')\n",
    "#         break\n",
    "        c+=1"
   ]
  },
  {
   "cell_type": "code",
   "execution_count": null,
   "metadata": {},
   "outputs": [],
   "source": []
  },
  {
   "cell_type": "markdown",
   "metadata": {},
   "source": [
    "### Convert into Json format (for Dataset.loader()"
   ]
  },
  {
   "cell_type": "markdown",
   "metadata": {},
   "source": [
    "Example\n",
    "```\n",
    "5733be284776f41900661182\n",
    "\n",
    "University_of_Notre_Dame\n",
    "\n",
    "Architecturally, the school has a Catholic character. Atop the Main Building's gold dome is a golden statue of the Virgin Mary. Immediately in front of the Main Building and facing it, is a copper statue of Christ with arms upraised with the legend \"Venite Ad Me Omnes\". Next to the Main Building is the Basilica of the Sacred Heart. Immediately behind the basilica is the Grotto, a Marian place of prayer and reflection. It is a replica of the grotto at Lourdes, France where the Virgin Mary reputedly appeared to Saint Bernadette Soubirous in 1858. At the end of the main drive (and in a direct line that connects through 3 statues and the Gold Dome), is a simple, modern stone statue of Mary.\n",
    "\n",
    "To whom did the Virgin Mary allegedly appear in 1858 in Lourdes France?\n",
    "\n",
    "{ \"text\": [ \"Saint Bernadette Soubirous\" ], \"answer_start\": [ 515 ] }\n",
    "\n",
    "\n",
    "```"
   ]
  },
  {
   "cell_type": "code",
   "execution_count": 20,
   "metadata": {
    "execution": {
     "iopub.execute_input": "2022-08-03T08:22:20.795209Z",
     "iopub.status.busy": "2022-08-03T08:22:20.794875Z",
     "iopub.status.idle": "2022-08-03T08:22:20.801097Z",
     "shell.execute_reply": "2022-08-03T08:22:20.800234Z",
     "shell.execute_reply.started": "2022-08-03T08:22:20.795179Z"
    },
    "tags": []
   },
   "outputs": [],
   "source": [
    "def convert_qa_item_to_datasets_format(qa_item):\n",
    "    title = qa_item['document_title']\n",
    "    question, context, answers = qa_item['question'], qa_item['context'], qa_item['answers']\n",
    "    return {\n",
    "        'id': get_qa_hash(question, context),\n",
    "        'title': title,\n",
    "        'context': context,\n",
    "        'question': question,\n",
    "        'answers': { 'text': [_answer['text'] for _answer in answers],\n",
    "                     'answer_start': [_answer['answer_start'] for _answer in answers]\n",
    "                   }\n",
    "    }"
   ]
  },
  {
   "cell_type": "code",
   "execution_count": 21,
   "metadata": {
    "execution": {
     "iopub.execute_input": "2022-08-03T08:22:21.229494Z",
     "iopub.status.busy": "2022-08-03T08:22:21.229198Z",
     "iopub.status.idle": "2022-08-03T08:22:21.736618Z",
     "shell.execute_reply": "2022-08-03T08:22:21.735889Z",
     "shell.execute_reply.started": "2022-08-03T08:22:21.229460Z"
    },
    "tags": []
   },
   "outputs": [],
   "source": [
    "mlqa_group_split['test'] = mlqa_test_set\n",
    "\n",
    "mlqa_processed_dataset = {\n",
    "   split_name: list(map(convert_qa_item_to_datasets_format, mlqa_group_split[split_name])) \\\n",
    "    for split_name in ['train','validation', 'test']\n",
    "}"
   ]
  },
  {
   "cell_type": "code",
   "execution_count": 22,
   "metadata": {
    "execution": {
     "iopub.execute_input": "2022-08-03T08:22:21.738328Z",
     "iopub.status.busy": "2022-08-03T08:22:21.737981Z",
     "iopub.status.idle": "2022-08-03T08:22:25.065750Z",
     "shell.execute_reply": "2022-08-03T08:22:25.065028Z",
     "shell.execute_reply.started": "2022-08-03T08:22:21.738296Z"
    },
    "tags": []
   },
   "outputs": [],
   "source": [
    "for split_name in ['train','validation', 'test']:\n",
    "    os.makedirs('../data/mlqa/datasets_format/', exist_ok=True)\n",
    "    with open(f'../data/mlqa/datasets_format/{split_name}.json', 'w', encoding='utf-8') as f:\n",
    "        json.dump({ 'meta': {\n",
    "            'train_split_ratio': 0.9,\n",
    "            'val_split_ratio': 0.1,\n",
    "            'split_type': 'GroupShuffleSplit',\n",
    "            'split_seed': 93,\n",
    "            'date': '02/08/2022',\n",
    "        },\n",
    "            'data': mlqa_processed_dataset[split_name] }, f, ensure_ascii=False, indent=4)\n"
   ]
  },
  {
   "cell_type": "code",
   "execution_count": null,
   "metadata": {},
   "outputs": [],
   "source": []
  },
  {
   "cell_type": "code",
   "execution_count": null,
   "metadata": {},
   "outputs": [],
   "source": []
  }
 ],
 "metadata": {
  "kernelspec": {
   "display_name": "Python 3 (ipykernel)",
   "language": "python",
   "name": "python3"
  },
  "language_info": {
   "codemirror_mode": {
    "name": "ipython",
    "version": 3
   },
   "file_extension": ".py",
   "mimetype": "text/x-python",
   "name": "python",
   "nbconvert_exporter": "python",
   "pygments_lexer": "ipython3",
   "version": "3.7.6"
  }
 },
 "nbformat": 4,
 "nbformat_minor": 4
}
