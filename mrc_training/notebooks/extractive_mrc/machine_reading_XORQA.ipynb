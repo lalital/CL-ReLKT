{
 "cells": [
  {
   "cell_type": "code",
   "execution_count": 1,
   "metadata": {},
   "outputs": [],
   "source": [
    "import os\n",
    "os.environ[\"CUDA_VISIBLE_DEVICES\"] = \"1\""
   ]
  },
  {
   "cell_type": "code",
   "execution_count": 2,
   "metadata": {},
   "outputs": [
    {
     "name": "stderr",
     "output_type": "stream",
     "text": [
      "Some weights of the model checkpoint at xlm-roberta-base were not used when initializing XLMRobertaForQuestionAnswering: ['lm_head.bias', 'lm_head.layer_norm.weight', 'lm_head.decoder.weight', 'lm_head.layer_norm.bias', 'lm_head.dense.weight', 'lm_head.dense.bias']\n",
      "- This IS expected if you are initializing XLMRobertaForQuestionAnswering from the checkpoint of a model trained on another task or with another architecture (e.g. initializing a BertForSequenceClassification model from a BertForPreTraining model).\n",
      "- This IS NOT expected if you are initializing XLMRobertaForQuestionAnswering from the checkpoint of a model that you expect to be exactly identical (initializing a BertForSequenceClassification model from a BertForSequenceClassification model).\n",
      "Some weights of XLMRobertaForQuestionAnswering were not initialized from the model checkpoint at xlm-roberta-base and are newly initialized: ['qa_outputs.weight', 'qa_outputs.bias']\n",
      "You should probably TRAIN this model on a down-stream task to be able to use it for predictions and inference.\n"
     ]
    }
   ],
   "source": [
    "from simpletransformers.question_answering import QuestionAnsweringModel\n",
    "import json\n",
    "\n",
    "output = \"XORQA_XLM-R\"\n",
    "train_args = {\n",
    "    'learning_rate': 3e-5,\n",
    "    'num_train_epochs': 2,\n",
    "    'max_seq_length': 384,\n",
    "    'doc_stride': 128,\n",
    "    'overwrite_output_dir': True,\n",
    "    'reprocess_input_data': False,\n",
    "    'train_batch_size': 3,\n",
    "    'gradient_accumulation_steps': 8,\n",
    "    'output_dir':output,\n",
    "    'evaluate_during_training':True,\n",
    "    'evaluate_during_training_steps':512,\n",
    "    'best_model_dir': f\"{output}/best_model\",\n",
    "    'evaluate_during_training_verbose': False,\n",
    "}\n",
    "\n",
    "model = QuestionAnsweringModel('xlmroberta', 'xlm-roberta-base',train_args)"
   ]
  },
  {
   "cell_type": "code",
   "execution_count": 5,
   "metadata": {},
   "outputs": [],
   "source": [
    "with open('../../datasets/mrc/xorqa/datasets_format/train.json', 'r') as f:\n",
    "    train_data = json.load(f)['data']\n",
    "train_new_list = []\n",
    "for item in train_data[:]:\n",
    "    train_new_list.append(\n",
    "        {\n",
    "            'title':item['title'],\n",
    "            'context':item['context'],\n",
    "            'qas':[{\n",
    "                \"question\":item['question'],\n",
    "                'answers':[{'text':item[\"answers\"]['text'][0],'answer_start':item[\"answers\"]['answer_start'][0]}],\n",
    "                'lang':item[\"lang\"],\n",
    "                \"id\":item['id'],\n",
    "            }]\n",
    "        }\n",
    "    )"
   ]
  },
  {
   "cell_type": "code",
   "execution_count": 7,
   "metadata": {},
   "outputs": [],
   "source": [
    "with open('../../datasets/mrc/xorqa/datasets_format/validation.json', 'r') as f:\n",
    "    eval_data = json.load(f)['data']\n",
    "eval_new_list = []\n",
    "for item in eval_data[:]:\n",
    "    eval_new_list.append(\n",
    "        {\n",
    "            'title':item['title'],\n",
    "            'context':item['context'],\n",
    "            'qas':[{\n",
    "                \"question\":item['question'],\n",
    "                'answers':[{'text':item[\"answers\"]['text'][0],'answer_start':item[\"answers\"]['answer_start'][0]}],\n",
    "                'lang':item[\"lang\"],\n",
    "                \"id\":item['id'],\n",
    "            }]\n",
    "        }\n",
    "    )"
   ]
  },
  {
   "cell_type": "code",
   "execution_count": null,
   "metadata": {},
   "outputs": [
    {
     "name": "stderr",
     "output_type": "stream",
     "text": [
      "convert squad examples to features: 100%|██████████| 1400/1400 [00:04<00:00, 323.65it/s]\n",
      "add example index and unique id: 100%|██████████| 1400/1400 [00:00<00:00, 482579.36it/s]\n"
     ]
    },
    {
     "data": {
      "application/vnd.jupyter.widget-view+json": {
       "model_id": "37a36a900ada4b92a488584c4398d5ab",
       "version_major": 2,
       "version_minor": 0
      },
      "text/plain": [
       "HBox(children=(FloatProgress(value=0.0, description='Epoch', max=2.0, style=ProgressStyle(description_width='i…"
      ]
     },
     "metadata": {},
     "output_type": "display_data"
    },
    {
     "data": {
      "application/vnd.jupyter.widget-view+json": {
       "model_id": "d01fba7c09f04f3ba593db2afa727d7e",
       "version_major": 2,
       "version_minor": 0
      },
      "text/plain": [
       "HBox(children=(FloatProgress(value=0.0, description='Running Epoch 0 of 2', max=491.0, style=ProgressStyle(des…"
      ]
     },
     "metadata": {},
     "output_type": "display_data"
    }
   ],
   "source": [
    "model.train_model(train_new_list,eval_data=eval_new_list)"
   ]
  },
  {
   "cell_type": "code",
   "execution_count": null,
   "metadata": {},
   "outputs": [],
   "source": []
  }
 ],
 "metadata": {
  "kernelspec": {
   "display_name": "Python 3",
   "language": "python",
   "name": "python3"
  },
  "language_info": {
   "codemirror_mode": {
    "name": "ipython",
    "version": 3
   },
   "file_extension": ".py",
   "mimetype": "text/x-python",
   "name": "python",
   "nbconvert_exporter": "python",
   "pygments_lexer": "ipython3",
   "version": "3.6.9"
  }
 },
 "nbformat": 4,
 "nbformat_minor": 2
}
